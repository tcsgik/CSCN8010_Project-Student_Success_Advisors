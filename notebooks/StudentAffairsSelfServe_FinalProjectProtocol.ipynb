{
 "cells": [
  {
   "cell_type": "markdown",
   "id": "45c15d8d",
   "metadata": {},
   "source": [
    "# Final Project Protocol: Foundations of Machine Learning Frameworks (CSCN8010)"
   ]
  },
  {
   "cell_type": "markdown",
   "id": "0bb7e5cb",
   "metadata": {},
   "source": [
    "## Project Title\n",
    "\n",
    "## **AI-Enhanced Self-Service Portal for Student Affairs: A Proof of Concept**"
   ]
  },
  {
   "cell_type": "markdown",
   "id": "4145bd53",
   "metadata": {},
   "source": [
    "## Context\n",
    "Student Success Advisors (SSAs) are currently overwhelmed by low-complexity, high-volume inquiries. A reduction in SSA staffing highlights the urgent need for a scalable solution. This project proposes the design and implementation of a chatbot-based self-service tool to handle frequently asked questions (FAQs), integrated with a fallback mechanism (\"off-ramp\") to escalate complex queries to human advisors."
   ]
  },
  {
   "cell_type": "markdown",
   "id": "8e23ab45",
   "metadata": {},
   "source": [
    "## Objectives\n",
    "- Develop a functional Proof of Concept (PoC) chatbot interface for handling common student inquiries.\n",
    "- Implement keyword-based detection for distress or complex issues to trigger escalation.\n",
    "- Use publicly available policy documents and a list of FAQs as the chatbot's knowledge base.\n",
    "- Build the chatbot using NLP, LLM architectures (like BERT or OpenAI ChatGPT), and Deep Learning models.\n",
    "- Ensure replicable deployment with sound software engineering practices."
   ]
  },
  {
   "cell_type": "markdown",
   "id": "b773ccb6",
   "metadata": {},
   "source": [
    "## 💬 Sample Chatbot Conversation: College Student Support\n",
    "\n",
    "**Student:**  \n",
    "Hi, I’m trying to figure out how to pay my tuition fees.\n",
    "\n",
    "**Chatbot:**  \n",
    "You can pay your tuition fees online through the Student Portal. Log in, navigate to the “Finance” section, and select “Make a Payment.” Here’s the link: [https://collegeportal.edu/finance](https://collegeportal.edu/finance)\n",
    "\n",
    "**Student:**  \n",
    "Thanks. Do I need to pay the full amount at once?\n",
    "\n",
    "**Chatbot:**  \n",
    "Good question! You can choose to pay in full or set up a payment plan. The payment plan allows you to pay in installments throughout the semester. Details and deadlines are available on the same “Finance” page.\n",
    "\n",
    "**Student:**  \n",
    "What happens if I miss a payment?\n",
    "\n",
    "**Chatbot:**  \n",
    "Missing a payment could result in late fees or a hold on your account, which may block access to registration and transcripts. If you’re having difficulty, it’s best to contact the Student Accounts Office as soon as possible.\n",
    "\n",
    "---\n",
    "\n",
    "**Student:**  \n",
    "I'm feeling overwhelmed and not sure I can keep up this term.\n",
    "\n",
    "**Chatbot:**  \n",
    "I'm really sorry you're feeling this way. You don’t have to go through it alone. Please speak with a Student Success Advisor who can support you. You can book an appointment [here](https://collegeportal.edu/ssa-booking) or call us directly at 555-123-4567.\n",
    "```\n"
   ]
  },
  {
   "cell_type": "markdown",
   "id": "41bc3b00",
   "metadata": {},
   "source": [
    "## Deliverables\n",
    "- A working chatbot with a simple GUI (Streamlit or Flask-based web UI).\n",
    "- NLP model embedded in chatbot to process user queries.\n",
    "- LLM backbone (e.g., BERT) with a deep learning classifier head.\n",
    "- Distress detection model for escalation.\n",
    "- Requirements file and structured repo.\n",
    "- README.md with project documentation and user manual."
   ]
  },
  {
   "cell_type": "markdown",
   "id": "e3dc376d",
   "metadata": {},
   "source": [
    "## 4-Week Timeline\n",
    "| Week | Milestone |\n",
    "|------|-----------|\n",
    "| 1    | Requirements gathering, knowledge base curation, and data preparation |\n",
    "| 2    | Model prototyping and chatbot interface scaffolding |\n",
    "| 3    | Integration of NLP model, off-ramp logic, and GUI polishing |\n",
    "| 4    | Testing, documentation, and final presentation/demo |"
   ]
  },
  {
   "cell_type": "markdown",
   "id": "2d7cc3f2",
   "metadata": {},
   "source": [
    "## Logical Steps\n",
    "1. Collect FAQs and college website content\n",
    "2. Prepare text data and preprocess (tokenization, embedding)\n",
    "3. Build NLP model using LLM architecture (e.g., BERT)\n",
    "4. Add Deep Learning classifier for intent detection\n",
    "5. Implement off-ramp detection via emotion classification\n",
    "6. Develop UI in Flask or Tkinter\n",
    "7. Test, document, freeze model, finalize submission"
   ]
  },
  {
   "cell_type": "markdown",
   "id": "14621438",
   "metadata": {},
   "source": [
    "## Integration of NLP, LLM, and Deep Learning\n",
    "| **Component**                    | **Technology Used**                         | **Purpose in the Chatbot**                                                                 |\n",
    "|----------------------------------|---------------------------------------------|---------------------------------------------------------------------------------------------|\n",
    "| NLP Preprocessing                | `spaCy`, `NLTK`, `transformers` tokenizers | Clean, tokenize, lemmatize, and vectorize student queries                                  |\n",
    "| LLM Backbone                     | Pretrained `BERT`, `DistilBERT`, `GPT2`     | Understand user intent and generate context-aware representations                          |\n",
    "| Deep Learning Classifier         | `PyTorch` / `Keras` / `TensorFlow`          | Fine-tune a classification head on top of LLM to route queries or trigger off-ramps        |\n",
    "| Response Generation              | Rule-based / Template / LLM Decoder         | Return answers based on classification or use decoder models to generate responses         |\n",
    "| Off-Ramp Detection               | Deep model trained to recognize key phrases | Classify emotional tone or distress based on LLM embeddings                                 |\n",
    "| GUI Interface                    | `Flask`, `Tkinter`, or `Gradio`             | Provide chat input/output, and display escalation messages                                 |"
   ]
  },
  {
   "cell_type": "markdown",
   "id": "fa4a53d1",
   "metadata": {},
   "source": [
    "#### Chatbot Architecture (Student-Level)\n",
    "\n",
    "```simpletext\n",
    "[Student Query] \n",
    "     ↓\n",
    "[NLP Preprocessing Layer]\n",
    "     ↓\n",
    "[LLM Backbone (e.g., OpenAI API)]\n",
    "     ↓\n",
    "[Tokenizer → LLM (e.g. ChatGPT 4o)]\n",
    "     ↓\n",
    "[Dual Deep Learning Classifier Head]\n",
    "   ↙                          ↘\n",
    "Intent                        Emotion\n",
    "Classifier                    Classifier\n",
    "     ↓                             ↘\n",
    "[Intent Classification]       [Distress Detection] → [Escalate to Human]\n",
    "   ↓                                    ↓\n",
    "[FAQ Match]                        [Escalate to SSA]\n",
    "     ↓\n",
    "[Response Generator]\n",
    "     ↓\n",
    "[Rule-based Answer or Retrieval]\n",
    "     ↓\n",
    "[Flask or Streamlit GUI]\n",
    "```"
   ]
  },
  {
   "cell_type": "markdown",
   "id": "cf6ca0e8",
   "metadata": {},
   "source": [
    "## Sample PoC Code (Hard-Coded Simulation)"
   ]
  },
  {
   "cell_type": "code",
   "execution_count": 1,
   "id": "a627896c",
   "metadata": {},
   "outputs": [
    {
     "name": "stderr",
     "output_type": "stream",
     "text": [
      "c:\\StudentWork\\Code\\CSCN8010\\StudentAffairsSelfServeChatbot\\.venv\\Lib\\site-packages\\tqdm\\auto.py:21: TqdmWarning: IProgress not found. Please update jupyter and ipywidgets. See https://ipywidgets.readthedocs.io/en/stable/user_install.html\n",
      "  from .autonotebook import tqdm as notebook_tqdm\n",
      "No model was supplied, defaulted to distilbert/distilbert-base-cased-distilled-squad and revision 564e9b5 (https://huggingface.co/distilbert/distilbert-base-cased-distilled-squad).\n",
      "Using a pipeline without specifying a model name and revision in production is not recommended.\n",
      "Device set to use cpu\n"
     ]
    },
    {
     "name": "stdout",
     "output_type": "stream",
     "text": [
      "Answer: online via the Student Portal\n"
     ]
    }
   ],
   "source": [
    "from transformers import pipeline\n",
    "\n",
    "# Load a small QA pipeline\n",
    "qa_pipeline = pipeline(\"question-answering\")\n",
    "\n",
    "context = \"\"\"\n",
    "You can pay your fees online via the Student Portal under the 'Finance' section.\n",
    "To drop a course, login to the registration system and select 'Drop Course'.\n",
    "If you are in distress, contact a Student Success Advisor.\n",
    "\"\"\"\n",
    "\n",
    "query = \"How do I pay my fees?\"\n",
    "result = qa_pipeline(question=query, context=context)\n",
    "print(f\"Answer: {result['answer']}\")"
   ]
  },
  {
   "cell_type": "markdown",
   "id": "df622a0d",
   "metadata": {},
   "source": [
    "## UI Description\n",
    "The chatbot will be a web-based GUI (Flask app or Streamlit desktop GUI). \n",
    "**Features:**\n",
    "- Input textbox for student questions\n",
    "- Real-time response area\n",
    "- Always-visible emergency off-ramp button\n",
    "- Chat history panel"
   ]
  },
  {
   "cell_type": "markdown",
   "id": "d3d6b05f",
   "metadata": {},
   "source": [
    "## Folder Structure\n",
    "\n",
    "```plaintext\n",
    "student-bot/\n",
    "├── data/                  # Training data and raw documents\n",
    "├── model/                 # Saved LLM + classifiers\n",
    "├── src/\n",
    "│   ├── preprocessing.py   # spaCy/NLP functions\n",
    "│   ├── inference.py       # LLM + DL inference logic\n",
    "│   ├── chatbot.py         # Response generator + off-ramp logic\n",
    "│   └── ui.py              # Flask or Streamlit GUI\n",
    "├── documentation/\n",
    "│   └── user_manual.md\n",
    "├── requirements.txt\n",
    "├── .env                   # Avoid hardcoding the API key directly in your script\n",
    "└── app.py                 # Main entry for chatbot\n",
    "\n",
    "```"
   ]
  },
  {
   "cell_type": "markdown",
   "id": "16eda69f",
   "metadata": {},
   "source": [
    "## 🔌 Modular Architecture Breakdown\n",
    "\n",
    "### 1. **Preprocessing Layer**\n",
    "- Use `spaCy` or `NLTK` to clean and normalize text (lowercase, remove stopwords, punctuation).\n",
    "- Tokenize queries if needed using `transformers` or simply pass raw queries to the OpenAI API for processing.\n",
    "\n",
    "### 2. **LLM Encoder (ChatGPT via OpenAI API)**\n",
    "- Connect to ChatGPT (`gpt-3.5-turbo` or `gpt-4`) using the [OpenAI Python SDK](https://platform.openai.com/docs/).\n",
    "- Use the model to **understand intent**, **rephrase queries**, or **generate structured responses**.\n",
    "- Example usage:"
   ]
  },
  {
   "cell_type": "code",
   "execution_count": 2,
   "id": "87aa1ec1",
   "metadata": {},
   "outputs": [
    {
     "name": "stdout",
     "output_type": "stream",
     "text": [
      "To appeal a grade, you typically need to follow the procedures established by your college or university. Here is a general guide you can follow:\n",
      "\n",
      "1. Review the grading policy: Start by reviewing your school's policies and procedures regarding grade appeals. This information is usually found in the student handbook, on the school's website, or by contacting the registrar's office.\n",
      "\n",
      "2. Understand the grounds for appeal: Most schools allow grade appeals only under specific circumstances, such as clerical errors, calculation mistakes, or unfair treatment. Make sure your reason for appealing falls within the acceptable grounds.\n",
      "\n",
      "3. Contact your professor: Before formally appealing the grade, it's a good idea to reach out to your professor to discuss your concerns. Seek clarification on how your grade was determined and present any evidence you have to support your appeal.\n",
      "\n",
      "4. Submit a formal appeal: If you are unsatisfied with the outcome of your discussion with the professor, or if you believe there was an error made, you can submit a formal appeal following the school's procedures. This usually involves filling out a form and providing any supporting documentation.\n",
      "\n",
      "5. Meet deadline: Make sure to submit your appeal within the specified deadline to ensure it is considered in a timely manner.\n",
      "\n",
      "6. Await the outcome: Once you have submitted your appeal, you will need to wait for a decision from the appropriate academic department or committee. Be patient and be prepared to provide additional information if requested.\n",
      "\n",
      "Remember to approach the situation professionally and respectfully throughout the process. Good luck with your grade appeal!\n"
     ]
    }
   ],
   "source": [
    "import openai\n",
    "import os\n",
    "from dotenv import load_dotenv\n",
    "\n",
    "load_dotenv()  # Load from .env file\n",
    "\n",
    "client = openai.OpenAI(api_key=os.getenv(\"OPENAI_API_KEY\"))\n",
    "\n",
    "def query_chatgpt(prompt):\n",
    "    response = client.chat.completions.create(\n",
    "        model=\"gpt-3.5-turbo\",\n",
    "        messages=[\n",
    "            {\"role\": \"system\", \"content\": \"You are a helpful college support assistant.\"},\n",
    "            {\"role\": \"user\", \"content\": prompt}\n",
    "        ]\n",
    "    )\n",
    "    return response.choices[0].message.content\n",
    "\n",
    "# Example usage\n",
    "print(query_chatgpt(\"How do I appeal a grade?\"))"
   ]
  },
  {
   "cell_type": "markdown",
   "id": "2db5c04c",
   "metadata": {},
   "source": [
    "* Prompts can be structured to:\n",
    "\n",
    "  * Return an **intent classification** (e.g., `\"intent: timetable\"`).\n",
    "  * Detect **distress indicators** based on emotional language.\n",
    "  * Return **direct answers** or links if desired.\n",
    "\n",
    "### 3. **Deep Learning Heads (Optional)**\n",
    "\n",
    "* If students want hands-on experience building models, they can:\n",
    "\n",
    "  * Add a Deep Learning classifier using PyTorch or Keras on the frontend (e.g., distress detection or fallback classification).\n",
    "  * Use the ChatGPT response as input to a simple binary classifier for escalation detection.\n",
    "\n",
    "### 4. **Response System**\n",
    "\n",
    "* **Template-Based Response**: Use predefined answers matched to classified intents (for reproducibility).\n",
    "* **ChatGPT Generation**: Use OpenAI's model to generate rich, dynamic responses (with citations or links where needed).\n",
    "\n",
    "### 5. **Off-Ramp Escalation**\n",
    "\n",
    "* Triggered when:\n",
    "\n",
    "  * The API response or local classifier indicates distress (e.g., \"I can't take this anymore\").\n",
    "  * A predefined keyword list matches high-risk phrases.\n",
    "* The chatbot should:\n",
    "\n",
    "  * Display a supportive message.\n",
    "  * Show a booking link to speak with a Student Success Advisor (SSA).\n",
    "  * Optionally log or flag the session for follow-up.\n",
    "\n",
    "### 6. **GUI (Flask Web App or Streamlit)**\n",
    "\n",
    "* User-friendly chat interface should include:\n",
    "\n",
    "  * A text input field for the student’s query.\n",
    "  * A display panel showing the bot’s response.\n",
    "  * An emergency off-ramp panel/banner when triggered.\n",
    "  * Optional: conversation history, session logging, or theme customization.\n"
   ]
  },
  {
   "cell_type": "markdown",
   "id": "f19c4995",
   "metadata": {},
   "source": [
    "## Sample Tools to Use\n",
    "| Task                          | Suggested Library         |\n",
    "|-------------------------------|---------------------------|\n",
    "| Tokenization & Embeddings     | Hugging Face Transformers |\n",
    "| Deep Learning Model           | PyTorch or Keras          |\n",
    "| Emotion Classification        | Custom LSTM/CNN Classifier |\n",
    "| GUI Interface                 | Flask or Gradio           |\n",
    "| Escalation Logic              | Custom Python function    |"
   ]
  },
  {
   "cell_type": "markdown",
   "id": "331e3dc5",
   "metadata": {},
   "source": [
    "## Student Activities (Modular)\n",
    "You could divide the implementation into parts:\n",
    "- **Part 1:** Use `spaCy` or `transformers` to clean and tokenize queries.\n",
    "- **Part 2:** Load a pretrained `BERT` or `DistilBERT` model and extract embeddings.\n",
    "- **Part 3:** Add a classification layer on top (fine-tuning).\n",
    "- **Part 4:** Detect escalation keywords or distress using a separate binary classifier.\n",
    "- **Part 5:** Display interaction using a local web UI."
   ]
  },
  {
   "cell_type": "markdown",
   "id": "067cc430",
   "metadata": {},
   "source": [
    "## Summary\n",
    "This chatbot will combine NLP preprocessing, a transformer-based LLM (e.g., BERT), and Deep Learning classifiers to simulate realistic, scalable student support. Students will gain experience with language modeling, text classification, and GUI application design."
   ]
  },
  {
   "cell_type": "markdown",
   "id": "0781975d",
   "metadata": {},
   "source": [
    "### 🧠 Why Build Steps 3–6 If GPT Can Do It All?\n",
    "\n",
    "| Step | Component              | Why It’s Still Valuable to Implement                                                                                                                                                                                        |\n",
    "| ---- | ---------------------- | --------------------------------------------------------------------------------------------------------------------------------------------------------------------------------------------------------------------------- |\n",
    "| 3    | **Intent Classifier**  | 🎓 **Educational value**: Students learn how to build and evaluate classifiers. <br>🧪 **Control**: Allows you to explicitly route queries by intent (e.g., “fees”, “courses”) instead of relying on GPT's latent behavior. |\n",
    "| 4    | **Distress Detector**  | 🛡️ **Ethical safety net**: Don’t rely solely on GPT to detect sensitive queries. <br>🚨 Helps flag specific keywords or emotional tone with a **transparent, explainable model**.                                          |\n",
    "| 5    | **Response Generator** | 📚 **Standardization**: Use templated answers when accuracy, formality, or compliance matter (e.g., fee deadlines, withdrawal policies). <br>🧩 Mix GPT and templates for hybrid response generation.                       |\n",
    "| 6    | **Off-Ramp Logic**     | ✅ **Fail-safe mechanism**: Allows independent escalation triggers even if GPT misses the signal. <br>💡 Integrates classifiers, rules, and GPT into one robust decision pipeline.                                           |\n",
    "\n",
    "---\n",
    "\n",
    "### 🔁 GPT Is Powerful, But Not Always the Best Alone\n",
    "\n",
    "While GPT-3.5/4 is impressive for understanding and generating language:\n",
    "\n",
    "* It’s a **black box** — hard to control or audit.\n",
    "* It may **hallucinate** answers or miss subtle emotional cues.\n",
    "* It’s not guaranteed to catch every **escalation** scenario (e.g., “I can’t keep doing this”).\n",
    "* For institutions, answers often need to follow **official templates** or link to verified resources — GPT might skip those.\n",
    "\n",
    "---\n",
    "\n",
    "### 🎓 From the learning perspective, Steps 3–6 Offer:\n",
    "\n",
    "* Hands-on experience with **model training, evaluation, and deployment**.\n",
    "* A chance to understand when and how to **blend LLMs with traditional ML pipelines**.\n",
    "* Exposure to **real-world software architecture**, where redundancy, modularity, and failover matter.\n",
    "\n"
   ]
  }
 ],
 "metadata": {
  "kernelspec": {
   "display_name": ".venv",
   "language": "python",
   "name": "python3"
  },
  "language_info": {
   "codemirror_mode": {
    "name": "ipython",
    "version": 3
   },
   "file_extension": ".py",
   "mimetype": "text/x-python",
   "name": "python",
   "nbconvert_exporter": "python",
   "pygments_lexer": "ipython3",
   "version": "3.12.1"
  }
 },
 "nbformat": 4,
 "nbformat_minor": 5
}

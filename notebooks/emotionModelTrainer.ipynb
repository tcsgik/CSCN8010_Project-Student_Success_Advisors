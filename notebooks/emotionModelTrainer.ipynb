{
 "cells": [
  {
   "cell_type": "markdown",
   "id": "e2346b87",
   "metadata": {},
   "source": [
    "## Emotion classifier trainer\n",
    "\n",
    "* Datasets: load_dataset(\"go_emotions\") from the Hugging Face Datasets library to load and preprocess the data.\n",
    "* Task: Single-label emotion classification problem (subset of emotions), where each text input is mapped to one primary emotion label.\n",
    "* Model: BERT (bert-base-uncased), fine-tuned using Hugging Face’s Trainer API and BertForSequenceClassification.\n",
    "* Goal: To detect student emotional tone (e.g., anger, sadness, disgust, fear, etc.) in open-ended queries or messages.\n",
    "* The trained model is saved to models/emotionClassifier."
   ]
  },
  {
   "cell_type": "code",
   "execution_count": 1,
   "id": "9e3afcd4",
   "metadata": {},
   "outputs": [],
   "source": [
    "target_emotions = [\"sadness\", \"grief\", \"fear\", \"remorse\", \"disappointment\", \"nervousness\", \"embarrassment\" ]  # custom order: high severity first"
   ]
  },
  {
   "cell_type": "code",
   "execution_count": 2,
   "id": "421dfc65",
   "metadata": {},
   "outputs": [
    {
     "name": "stderr",
     "output_type": "stream",
     "text": [
      "c:\\Source\\conestoga\\misc\\CSCN8010_Project-Student_Success_Advisors\\.venv\\lib\\site-packages\\tqdm\\auto.py:21: TqdmWarning: IProgress not found. Please update jupyter and ipywidgets. See https://ipywidgets.readthedocs.io/en/stable/user_install.html\n",
      "  from .autonotebook import tqdm as notebook_tqdm\n"
     ]
    }
   ],
   "source": [
    "# Load dataset\n",
    "from datasets import load_dataset\n",
    "\n",
    "goemo_dataset = load_dataset(\"go_emotions\")\n",
    "\n",
    "# Get label names (maps index to emotion string)\n",
    "id2label = goemo_dataset['train'].features['labels'].feature.names\n",
    "label2id = {label: i for i, label in enumerate(id2label)}\n",
    "\n",
    "# Create emotion index map for only target emotions\n",
    "target_label2id = {emotion: idx for idx, emotion in enumerate(target_emotions)}\n",
    "target_id2label = {idx: emotion for emotion, idx in target_label2id.items()}\n",
    "target_label_ids = {label2id[e] for e in target_emotions}"
   ]
  },
  {
   "cell_type": "code",
   "execution_count": 3,
   "id": "25591fff",
   "metadata": {},
   "outputs": [
    {
     "data": {
      "application/vnd.microsoft.datawrangler.viewer.v0+json": {
       "columns": [
        {
         "name": "index",
         "rawType": "int64",
         "type": "integer"
        },
        {
         "name": "text",
         "rawType": "object",
         "type": "string"
        },
        {
         "name": "label",
         "rawType": "int64",
         "type": "integer"
        }
       ],
       "ref": "538c968b-271e-4530-9b55-a7267d12fbfc",
       "rows": [
        [
         "0",
         "To make her feel threatened",
         "2"
        ],
        [
         "1",
         "Shit, I guess I accidentally bought a Pay-Per-View boxing match",
         "6"
        ],
        [
         "2",
         "I never thought it was at the same moment, but sometimes after [NAME] sacrifice... sounds logical",
         "4"
        ],
        [
         "3",
         "i got a bump and a bald spot. i feel dumb <3",
         "6"
        ],
        [
         "4",
         "I miss them being alive",
         "1"
        ]
       ],
       "shape": {
        "columns": 2,
        "rows": 5
       }
      },
      "text/html": [
       "<div>\n",
       "<style scoped>\n",
       "    .dataframe tbody tr th:only-of-type {\n",
       "        vertical-align: middle;\n",
       "    }\n",
       "\n",
       "    .dataframe tbody tr th {\n",
       "        vertical-align: top;\n",
       "    }\n",
       "\n",
       "    .dataframe thead th {\n",
       "        text-align: right;\n",
       "    }\n",
       "</style>\n",
       "<table border=\"1\" class=\"dataframe\">\n",
       "  <thead>\n",
       "    <tr style=\"text-align: right;\">\n",
       "      <th></th>\n",
       "      <th>text</th>\n",
       "      <th>label</th>\n",
       "    </tr>\n",
       "  </thead>\n",
       "  <tbody>\n",
       "    <tr>\n",
       "      <th>0</th>\n",
       "      <td>To make her feel threatened</td>\n",
       "      <td>2</td>\n",
       "    </tr>\n",
       "    <tr>\n",
       "      <th>1</th>\n",
       "      <td>Shit, I guess I accidentally bought a Pay-Per-...</td>\n",
       "      <td>6</td>\n",
       "    </tr>\n",
       "    <tr>\n",
       "      <th>2</th>\n",
       "      <td>I never thought it was at the same moment, but...</td>\n",
       "      <td>4</td>\n",
       "    </tr>\n",
       "    <tr>\n",
       "      <th>3</th>\n",
       "      <td>i got a bump and a bald spot. i feel dumb &lt;3</td>\n",
       "      <td>6</td>\n",
       "    </tr>\n",
       "    <tr>\n",
       "      <th>4</th>\n",
       "      <td>I miss them being alive</td>\n",
       "      <td>1</td>\n",
       "    </tr>\n",
       "  </tbody>\n",
       "</table>\n",
       "</div>"
      ],
      "text/plain": [
       "                                                text  label\n",
       "0                        To make her feel threatened      2\n",
       "1  Shit, I guess I accidentally bought a Pay-Per-...      6\n",
       "2  I never thought it was at the same moment, but...      4\n",
       "3       i got a bump and a bald spot. i feel dumb <3      6\n",
       "4                            I miss them being alive      1"
      ]
     },
     "execution_count": 3,
     "metadata": {},
     "output_type": "execute_result"
    }
   ],
   "source": [
    "import pandas as pd\n",
    "\n",
    "# Convert to DataFrame\n",
    "df = goemo_dataset[\"train\"].to_pandas()\n",
    "\n",
    "# Keep only rows with at least one target emotion\n",
    "def get_first_target_label(labels):\n",
    "    for l in labels:\n",
    "        if l in target_label_ids:\n",
    "            return id2label[l]\n",
    "    return None\n",
    "\n",
    "df['target_label'] = df['labels'].apply(get_first_target_label)\n",
    "df = df[df['target_label'].notnull()].reset_index(drop=True)\n",
    "\n",
    "# Map emotion string to class index 0-6\n",
    "df['label'] = df['target_label'].map(target_label2id)\n",
    "df = df[['text', 'label']]\n",
    "\n",
    "df.head()"
   ]
  },
  {
   "cell_type": "code",
   "execution_count": 4,
   "id": "acce0977",
   "metadata": {},
   "outputs": [],
   "source": [
    "from sklearn.model_selection import train_test_split\n",
    "\n",
    "train_df, val_df = train_test_split(df, test_size=0.1, stratify=df['label'], random_state=42)"
   ]
  },
  {
   "cell_type": "code",
   "execution_count": 5,
   "id": "0faec1a1",
   "metadata": {},
   "outputs": [
    {
     "name": "stderr",
     "output_type": "stream",
     "text": [
      "Map: 100%|██████████| 3555/3555 [00:00<00:00, 10259.11 examples/s]\n",
      "Map: 100%|██████████| 395/395 [00:00<00:00, 9546.02 examples/s]\n"
     ]
    }
   ],
   "source": [
    "from transformers import AutoTokenizer\n",
    "from datasets import Dataset\n",
    "\n",
    "tokenizer = AutoTokenizer.from_pretrained(\"bert-base-uncased\")\n",
    "\n",
    "def tokenize(example):\n",
    "    return tokenizer(example[\"text\"], padding=\"max_length\", truncation=True, max_length=128)\n",
    "\n",
    "# Convert pandas back to Hugging Face Datasets\n",
    "train_dataset = Dataset.from_pandas(train_df)\n",
    "val_dataset = Dataset.from_pandas(val_df)\n",
    "\n",
    "train_dataset = train_dataset.map(tokenize, batched=True)\n",
    "val_dataset = val_dataset.map(tokenize, batched=True)\n",
    "\n",
    "# Set format for PyTorch\n",
    "train_dataset.set_format(type=\"torch\", columns=[\"input_ids\", \"attention_mask\", \"label\"])\n",
    "val_dataset.set_format(type=\"torch\", columns=[\"input_ids\", \"attention_mask\", \"label\"])\n"
   ]
  },
  {
   "cell_type": "code",
   "execution_count": 6,
   "id": "927e23a6",
   "metadata": {},
   "outputs": [
    {
     "name": "stderr",
     "output_type": "stream",
     "text": [
      "W0805 10:12:04.129910 1452 Lib\\site-packages\\torch\\distributed\\elastic\\multiprocessing\\redirects.py:29] NOTE: Redirects are currently not supported in Windows or MacOs.\n",
      "Some weights of BertForSequenceClassification were not initialized from the model checkpoint at bert-base-uncased and are newly initialized: ['classifier.bias', 'classifier.weight']\n",
      "You should probably TRAIN this model on a down-stream task to be able to use it for predictions and inference.\n",
      "c:\\Source\\conestoga\\misc\\CSCN8010_Project-Student_Success_Advisors\\.venv\\lib\\site-packages\\transformers\\training_args.py:1474: FutureWarning: `evaluation_strategy` is deprecated and will be removed in version 4.46 of 🤗 Transformers. Use `eval_strategy` instead\n",
      "  warnings.warn(\n"
     ]
    }
   ],
   "source": [
    "from transformers import BertForSequenceClassification, TrainingArguments, Trainer, EarlyStoppingCallback\n",
    "from sklearn.metrics import accuracy_score, f1_score, precision_score, recall_score\n",
    "import torch\n",
    "\n",
    "# Model setup\n",
    "model = BertForSequenceClassification.from_pretrained(\n",
    "    \"bert-base-uncased\",\n",
    "    num_labels=len(target_emotions)\n",
    ")\n",
    "\n",
    "# Metrics\n",
    "def compute_metrics(pred):\n",
    "    logits, labels = pred\n",
    "    preds = logits.argmax(axis=1)\n",
    "    return {\n",
    "        \"accuracy\": accuracy_score(labels, preds),\n",
    "        \"f1\": f1_score(labels, preds, average=\"weighted\"),\n",
    "        \"precision\": precision_score(labels, preds, average=\"weighted\"),\n",
    "        \"recall\": recall_score(labels, preds, average=\"weighted\"),\n",
    "    }\n",
    "\n",
    "# Training arguments\n",
    "training_args = TrainingArguments(\n",
    "    output_dir=\"./results\",\n",
    "    evaluation_strategy=\"epoch\",\n",
    "    save_strategy=\"epoch\",\n",
    "    load_best_model_at_end=True,\n",
    "    metric_for_best_model=\"eval_f1\",\n",
    "    greater_is_better=True,\n",
    "    learning_rate=2e-5,\n",
    "    per_device_train_batch_size=16,\n",
    "    per_device_eval_batch_size=64,\n",
    "    num_train_epochs=10,\n",
    "    weight_decay=0.01,\n",
    "    logging_dir=\"./logs\",\n",
    "    logging_steps=100,\n",
    ")\n",
    "\n",
    "# Trainer\n",
    "trainer = Trainer(\n",
    "    model=model,\n",
    "    args=training_args,\n",
    "    train_dataset=train_dataset,\n",
    "    eval_dataset=val_dataset,\n",
    "    compute_metrics=compute_metrics,\n",
    "    callbacks=[EarlyStoppingCallback(early_stopping_patience=2)]\n",
    ")"
   ]
  },
  {
   "cell_type": "code",
   "execution_count": 7,
   "id": "9e09fdb2",
   "metadata": {},
   "outputs": [
    {
     "name": "stderr",
     "output_type": "stream",
     "text": [
      "  0%|          | 0/2230 [00:00<?, ?it/s]c:\\Source\\conestoga\\misc\\CSCN8010_Project-Student_Success_Advisors\\.venv\\lib\\site-packages\\torch\\utils\\data\\dataloader.py:665: UserWarning: 'pin_memory' argument is set as true but no accelerator is found, then device pinned memory won't be used.\n",
      "  warnings.warn(warn_msg)\n",
      "  4%|▍         | 100/2230 [16:56<7:55:32, 13.40s/it]"
     ]
    },
    {
     "name": "stdout",
     "output_type": "stream",
     "text": [
      "{'loss': 1.5741, 'grad_norm': 4.606809616088867, 'learning_rate': 1.9103139013452916e-05, 'epoch': 0.45}\n"
     ]
    },
    {
     "name": "stderr",
     "output_type": "stream",
     "text": [
      "  9%|▉         | 200/2230 [32:43<4:29:28,  7.96s/it]"
     ]
    },
    {
     "name": "stdout",
     "output_type": "stream",
     "text": [
      "{'loss': 1.2477, 'grad_norm': 5.874758720397949, 'learning_rate': 1.820627802690583e-05, 'epoch': 0.9}\n"
     ]
    },
    {
     "name": "stderr",
     "output_type": "stream",
     "text": [
      " 10%|█         | 223/2230 [35:58<3:49:02,  6.85s/it]c:\\Source\\conestoga\\misc\\CSCN8010_Project-Student_Success_Advisors\\.venv\\lib\\site-packages\\sklearn\\metrics\\_classification.py:1565: UndefinedMetricWarning: Precision is ill-defined and being set to 0.0 in labels with no predicted samples. Use `zero_division` parameter to control this behavior.\n",
      "  _warn_prf(average, modifier, f\"{metric.capitalize()} is\", len(result))\n",
      "                                                    \n",
      " 10%|█         | 223/2230 [36:54<3:49:02,  6.85s/it]"
     ]
    },
    {
     "name": "stdout",
     "output_type": "stream",
     "text": [
      "{'eval_loss': 0.978505551815033, 'eval_accuracy': 0.660759493670886, 'eval_f1': 0.6408395905175219, 'eval_precision': 0.6346773599668077, 'eval_recall': 0.660759493670886, 'eval_runtime': 56.4848, 'eval_samples_per_second': 6.993, 'eval_steps_per_second': 0.124, 'epoch': 1.0}\n"
     ]
    },
    {
     "name": "stderr",
     "output_type": "stream",
     "text": [
      "c:\\Source\\conestoga\\misc\\CSCN8010_Project-Student_Success_Advisors\\.venv\\lib\\site-packages\\torch\\utils\\data\\dataloader.py:665: UserWarning: 'pin_memory' argument is set as true but no accelerator is found, then device pinned memory won't be used.\n",
      "  warnings.warn(warn_msg)\n",
      " 13%|█▎        | 300/2230 [48:27<4:50:19,  9.03s/it] "
     ]
    },
    {
     "name": "stdout",
     "output_type": "stream",
     "text": [
      "{'loss': 0.8746, 'grad_norm': 9.37828254699707, 'learning_rate': 1.7309417040358745e-05, 'epoch': 1.35}\n"
     ]
    },
    {
     "name": "stderr",
     "output_type": "stream",
     "text": [
      " 18%|█▊        | 400/2230 [1:01:24<4:27:05,  8.76s/it]"
     ]
    },
    {
     "name": "stdout",
     "output_type": "stream",
     "text": [
      "{'loss': 0.767, 'grad_norm': 8.703765869140625, 'learning_rate': 1.641255605381166e-05, 'epoch': 1.79}\n"
     ]
    },
    {
     "name": "stderr",
     "output_type": "stream",
     "text": [
      " 20%|██        | 446/2230 [1:08:05<3:25:30,  6.91s/it]c:\\Source\\conestoga\\misc\\CSCN8010_Project-Student_Success_Advisors\\.venv\\lib\\site-packages\\sklearn\\metrics\\_classification.py:1565: UndefinedMetricWarning: Precision is ill-defined and being set to 0.0 in labels with no predicted samples. Use `zero_division` parameter to control this behavior.\n",
      "  _warn_prf(average, modifier, f\"{metric.capitalize()} is\", len(result))\n",
      "                                                      \n",
      " 20%|██        | 446/2230 [1:09:01<3:25:30,  6.91s/it]"
     ]
    },
    {
     "name": "stdout",
     "output_type": "stream",
     "text": [
      "{'eval_loss': 0.8383501768112183, 'eval_accuracy': 0.7113924050632912, 'eval_f1': 0.7034793684184795, 'eval_precision': 0.7004218020032112, 'eval_recall': 0.7113924050632912, 'eval_runtime': 56.3653, 'eval_samples_per_second': 7.008, 'eval_steps_per_second': 0.124, 'epoch': 2.0}\n"
     ]
    },
    {
     "name": "stderr",
     "output_type": "stream",
     "text": [
      "c:\\Source\\conestoga\\misc\\CSCN8010_Project-Student_Success_Advisors\\.venv\\lib\\site-packages\\torch\\utils\\data\\dataloader.py:665: UserWarning: 'pin_memory' argument is set as true but no accelerator is found, then device pinned memory won't be used.\n",
      "  warnings.warn(warn_msg)\n",
      " 22%|██▏       | 500/2230 [1:16:17<4:02:39,  8.42s/it] "
     ]
    },
    {
     "name": "stdout",
     "output_type": "stream",
     "text": [
      "{'loss': 0.7078, 'grad_norm': 6.31528902053833, 'learning_rate': 1.5515695067264575e-05, 'epoch': 2.24}\n"
     ]
    },
    {
     "name": "stderr",
     "output_type": "stream",
     "text": [
      " 27%|██▋       | 600/2230 [1:30:06<4:03:12,  8.95s/it]"
     ]
    },
    {
     "name": "stdout",
     "output_type": "stream",
     "text": [
      "{'loss': 0.5921, 'grad_norm': 17.561147689819336, 'learning_rate': 1.461883408071749e-05, 'epoch': 2.69}\n"
     ]
    },
    {
     "name": "stderr",
     "output_type": "stream",
     "text": [
      " 30%|███       | 669/2230 [1:38:38<2:22:56,  5.49s/it]c:\\Source\\conestoga\\misc\\CSCN8010_Project-Student_Success_Advisors\\.venv\\lib\\site-packages\\sklearn\\metrics\\_classification.py:1565: UndefinedMetricWarning: Precision is ill-defined and being set to 0.0 in labels with no predicted samples. Use `zero_division` parameter to control this behavior.\n",
      "  _warn_prf(average, modifier, f\"{metric.capitalize()} is\", len(result))\n",
      "                                                      \n",
      " 30%|███       | 669/2230 [1:39:23<2:22:56,  5.49s/it]"
     ]
    },
    {
     "name": "stdout",
     "output_type": "stream",
     "text": [
      "{'eval_loss': 0.9166675209999084, 'eval_accuracy': 0.6860759493670886, 'eval_f1': 0.6806512402521872, 'eval_precision': 0.6919857874995372, 'eval_recall': 0.6860759493670886, 'eval_runtime': 44.5548, 'eval_samples_per_second': 8.865, 'eval_steps_per_second': 0.157, 'epoch': 3.0}\n"
     ]
    },
    {
     "name": "stderr",
     "output_type": "stream",
     "text": [
      "c:\\Source\\conestoga\\misc\\CSCN8010_Project-Student_Success_Advisors\\.venv\\lib\\site-packages\\torch\\utils\\data\\dataloader.py:665: UserWarning: 'pin_memory' argument is set as true but no accelerator is found, then device pinned memory won't be used.\n",
      "  warnings.warn(warn_msg)\n",
      " 31%|███▏      | 700/2230 [1:43:34<2:59:10,  7.03s/it]"
     ]
    },
    {
     "name": "stdout",
     "output_type": "stream",
     "text": [
      "{'loss': 0.5159, 'grad_norm': 10.167298316955566, 'learning_rate': 1.3721973094170404e-05, 'epoch': 3.14}\n"
     ]
    },
    {
     "name": "stderr",
     "output_type": "stream",
     "text": [
      " 36%|███▌      | 800/2230 [1:57:39<3:32:02,  8.90s/it]"
     ]
    },
    {
     "name": "stdout",
     "output_type": "stream",
     "text": [
      "{'loss': 0.3986, 'grad_norm': 8.780031204223633, 'learning_rate': 1.2825112107623318e-05, 'epoch': 3.59}\n"
     ]
    },
    {
     "name": "stderr",
     "output_type": "stream",
     "text": [
      "                                                      \n",
      " 40%|████      | 892/2230 [2:11:43<2:04:33,  5.59s/it]"
     ]
    },
    {
     "name": "stdout",
     "output_type": "stream",
     "text": [
      "{'eval_loss': 0.9763070940971375, 'eval_accuracy': 0.6835443037974683, 'eval_f1': 0.6833893862514774, 'eval_precision': 0.6918313760812048, 'eval_recall': 0.6835443037974683, 'eval_runtime': 45.1653, 'eval_samples_per_second': 8.746, 'eval_steps_per_second': 0.155, 'epoch': 4.0}\n"
     ]
    },
    {
     "name": "stderr",
     "output_type": "stream",
     "text": [
      " 40%|████      | 892/2230 [2:11:57<3:17:55,  8.88s/it]"
     ]
    },
    {
     "name": "stdout",
     "output_type": "stream",
     "text": [
      "{'train_runtime': 7917.0235, 'train_samples_per_second': 4.49, 'train_steps_per_second': 0.282, 'train_loss': 0.7890615463256836, 'epoch': 4.0}\n"
     ]
    },
    {
     "name": "stderr",
     "output_type": "stream",
     "text": [
      "\n"
     ]
    },
    {
     "data": {
      "text/plain": [
       "TrainOutput(global_step=892, training_loss=0.7890615463256836, metrics={'train_runtime': 7917.0235, 'train_samples_per_second': 4.49, 'train_steps_per_second': 0.282, 'total_flos': 935401792896000.0, 'train_loss': 0.7890615463256836, 'epoch': 4.0})"
      ]
     },
     "execution_count": 7,
     "metadata": {},
     "output_type": "execute_result"
    }
   ],
   "source": [
    "trainer.train()"
   ]
  },
  {
   "cell_type": "code",
   "execution_count": 8,
   "id": "6cf27791",
   "metadata": {},
   "outputs": [
    {
     "data": {
      "text/plain": [
       "('../../models/emotionClassifier\\\\tokenizer_config.json',\n",
       " '../../models/emotionClassifier\\\\special_tokens_map.json',\n",
       " '../../models/emotionClassifier\\\\vocab.txt',\n",
       " '../../models/emotionClassifier\\\\added_tokens.json',\n",
       " '../../models/emotionClassifier\\\\tokenizer.json')"
      ]
     },
     "execution_count": 8,
     "metadata": {},
     "output_type": "execute_result"
    }
   ],
   "source": [
    "trainer.save_model(\"../../models/emotionClassifier\")\n",
    "tokenizer.save_pretrained(\"../../models/emotionClassifier\")"
   ]
  }
 ],
 "metadata": {
  "kernelspec": {
   "display_name": ".venv (3.10.0)",
   "language": "python",
   "name": "python3"
  },
  "language_info": {
   "codemirror_mode": {
    "name": "ipython",
    "version": 3
   },
   "file_extension": ".py",
   "mimetype": "text/x-python",
   "name": "python",
   "nbconvert_exporter": "python",
   "pygments_lexer": "ipython3",
   "version": "3.10.0"
  }
 },
 "nbformat": 4,
 "nbformat_minor": 5
}

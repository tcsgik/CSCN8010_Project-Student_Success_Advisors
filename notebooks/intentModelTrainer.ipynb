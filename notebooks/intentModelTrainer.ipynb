{
 "cells": [
  {
   "cell_type": "markdown",
   "id": "0dfe7502",
   "metadata": {},
   "source": [
    "## Intent classifier trainer\n",
    "\n",
    "* Dataset: student_queries.csv file with synthetic messages, each labeled with one of the intent categories, such as: Course Information, Enrollment / Course Registration, Withdrawal or Drop Course, Scholarship/Financial Aid, etc.\n",
    "* Task: Single-label classification to predict the intent behind the student's query.\n",
    "* Model: Use BertForSequenceClassification, fine-tuned on the intent dataset.\n",
    "* Goal: To determine the purpose of a query.\n",
    "* The trained model is saved to models/intentClassifier."
   ]
  },
  {
   "cell_type": "code",
   "execution_count": 1,
   "id": "1c5174a8",
   "metadata": {},
   "outputs": [],
   "source": [
    "intent_labels = [\n",
    "        \"Course Information\",\n",
    "        \"Enrollment / Course Registration\",\n",
    "        \"Withdrawal or Drop Course\",\n",
    "        \"Access Issues (portal/login)\",\n",
    "        \"Technical Support\",\n",
    "        \"Tuition/Fees Inquiry\",\n",
    "        \"Scholarship/Financial Aid\",\n",
    "        \"Mental Health Concerns\",\n",
    "        \"Stress or Burnout\",\n",
    "        \"Bullying or Harassment\",\n",
    "        \"Administrative Support\",\n",
    "        \"Campus Facilities\",\n",
    "        \"Housing/Accommodation\",\n",
    "        \"Extracurricular Activities\",\n",
    "        \"General Complaint\"\n",
    "    ]"
   ]
  },
  {
   "cell_type": "code",
   "execution_count": 2,
   "id": "5b13eaa7",
   "metadata": {},
   "outputs": [],
   "source": [
    "import pandas as pd\n",
    "\n",
    "label_to_id = {label: idx for idx, label in enumerate(intent_labels)}\n",
    "id_to_label = {idx: label for idx, label in enumerate(intent_labels)}\n",
    "\n",
    "df = pd.read_csv(\"../../data/student_queries.csv\")\n",
    "\n",
    "# Encode labels\n",
    "df[\"label\"] = df[\"intent\"].map(label_to_id)\n",
    "df = df.dropna(subset=[\"label\"])\n",
    "\n",
    "# convert label to int (from float due to NaN)\n",
    "df[\"label\"] = df[\"label\"].astype(int)"
   ]
  },
  {
   "cell_type": "code",
   "execution_count": 3,
   "id": "32bd868b",
   "metadata": {},
   "outputs": [
    {
     "data": {
      "application/vnd.microsoft.datawrangler.viewer.v0+json": {
       "columns": [
        {
         "name": "index",
         "rawType": "int64",
         "type": "integer"
        },
        {
         "name": "datetime",
         "rawType": "object",
         "type": "string"
        },
        {
         "name": "student",
         "rawType": "object",
         "type": "string"
        },
        {
         "name": "question",
         "rawType": "object",
         "type": "string"
        },
        {
         "name": "intent",
         "rawType": "object",
         "type": "string"
        },
        {
         "name": "is_distressed",
         "rawType": "object",
         "type": "string"
        },
        {
         "name": "label",
         "rawType": "int32",
         "type": "integer"
        }
       ],
       "ref": "05d6b969-b62a-42a5-90e5-3713de3c82a4",
       "rows": [
        [
         "0",
         "2025-07-04 14:07:23",
         "Shannon Austin",
         "What topics will be covered in the AI course?",
         "Course Information",
         "False",
         "0"
        ],
        [
         "1",
         "2025-07-04 16:13:28",
         "Stephanie Calhoun",
         "I'm feeling really overwhelmed lately.",
         "Mental Health Concerns",
         "True",
         "7"
        ],
        [
         "2",
         "2025-07-04 16:19:28",
         "Kevin Garcia",
         "Who do I contact for transcript requests?",
         "Administrative Support",
         "False",
         "10"
        ],
        [
         "3",
         "2025-07-04 16:55:20",
         "Lisa Duran",
         "I have a complaint about the cafeteria service.",
         "General Complaint",
         "True",
         "14"
        ],
        [
         "4",
         "2025-07-04 17:08:35",
         "Jeff Rangel",
         "Who do I contact for transcript requests?",
         "Administrative Support",
         "False",
         "10"
        ]
       ],
       "shape": {
        "columns": 6,
        "rows": 5
       }
      },
      "text/html": [
       "<div>\n",
       "<style scoped>\n",
       "    .dataframe tbody tr th:only-of-type {\n",
       "        vertical-align: middle;\n",
       "    }\n",
       "\n",
       "    .dataframe tbody tr th {\n",
       "        vertical-align: top;\n",
       "    }\n",
       "\n",
       "    .dataframe thead th {\n",
       "        text-align: right;\n",
       "    }\n",
       "</style>\n",
       "<table border=\"1\" class=\"dataframe\">\n",
       "  <thead>\n",
       "    <tr style=\"text-align: right;\">\n",
       "      <th></th>\n",
       "      <th>datetime</th>\n",
       "      <th>student</th>\n",
       "      <th>question</th>\n",
       "      <th>intent</th>\n",
       "      <th>is_distressed</th>\n",
       "      <th>label</th>\n",
       "    </tr>\n",
       "  </thead>\n",
       "  <tbody>\n",
       "    <tr>\n",
       "      <th>0</th>\n",
       "      <td>2025-07-04 14:07:23</td>\n",
       "      <td>Shannon Austin</td>\n",
       "      <td>What topics will be covered in the AI course?</td>\n",
       "      <td>Course Information</td>\n",
       "      <td>False</td>\n",
       "      <td>0</td>\n",
       "    </tr>\n",
       "    <tr>\n",
       "      <th>1</th>\n",
       "      <td>2025-07-04 16:13:28</td>\n",
       "      <td>Stephanie Calhoun</td>\n",
       "      <td>I'm feeling really overwhelmed lately.</td>\n",
       "      <td>Mental Health Concerns</td>\n",
       "      <td>True</td>\n",
       "      <td>7</td>\n",
       "    </tr>\n",
       "    <tr>\n",
       "      <th>2</th>\n",
       "      <td>2025-07-04 16:19:28</td>\n",
       "      <td>Kevin Garcia</td>\n",
       "      <td>Who do I contact for transcript requests?</td>\n",
       "      <td>Administrative Support</td>\n",
       "      <td>False</td>\n",
       "      <td>10</td>\n",
       "    </tr>\n",
       "    <tr>\n",
       "      <th>3</th>\n",
       "      <td>2025-07-04 16:55:20</td>\n",
       "      <td>Lisa Duran</td>\n",
       "      <td>I have a complaint about the cafeteria service.</td>\n",
       "      <td>General Complaint</td>\n",
       "      <td>True</td>\n",
       "      <td>14</td>\n",
       "    </tr>\n",
       "    <tr>\n",
       "      <th>4</th>\n",
       "      <td>2025-07-04 17:08:35</td>\n",
       "      <td>Jeff Rangel</td>\n",
       "      <td>Who do I contact for transcript requests?</td>\n",
       "      <td>Administrative Support</td>\n",
       "      <td>False</td>\n",
       "      <td>10</td>\n",
       "    </tr>\n",
       "  </tbody>\n",
       "</table>\n",
       "</div>"
      ],
      "text/plain": [
       "              datetime            student  \\\n",
       "0  2025-07-04 14:07:23     Shannon Austin   \n",
       "1  2025-07-04 16:13:28  Stephanie Calhoun   \n",
       "2  2025-07-04 16:19:28       Kevin Garcia   \n",
       "3  2025-07-04 16:55:20         Lisa Duran   \n",
       "4  2025-07-04 17:08:35        Jeff Rangel   \n",
       "\n",
       "                                          question                  intent  \\\n",
       "0    What topics will be covered in the AI course?      Course Information   \n",
       "1           I'm feeling really overwhelmed lately.  Mental Health Concerns   \n",
       "2        Who do I contact for transcript requests?  Administrative Support   \n",
       "3  I have a complaint about the cafeteria service.       General Complaint   \n",
       "4        Who do I contact for transcript requests?  Administrative Support   \n",
       "\n",
       "  is_distressed  label  \n",
       "0         False      0  \n",
       "1          True      7  \n",
       "2         False     10  \n",
       "3          True     14  \n",
       "4         False     10  "
      ]
     },
     "execution_count": 3,
     "metadata": {},
     "output_type": "execute_result"
    }
   ],
   "source": [
    "df.head()"
   ]
  },
  {
   "cell_type": "code",
   "execution_count": 4,
   "id": "a34cc346",
   "metadata": {},
   "outputs": [
    {
     "name": "stderr",
     "output_type": "stream",
     "text": [
      "c:\\Source\\conestoga\\misc\\CSCN8010_Project-Student_Success_Advisors\\.venv\\lib\\site-packages\\tqdm\\auto.py:21: TqdmWarning: IProgress not found. Please update jupyter and ipywidgets. See https://ipywidgets.readthedocs.io/en/stable/user_install.html\n",
      "  from .autonotebook import tqdm as notebook_tqdm\n"
     ]
    }
   ],
   "source": [
    "from sklearn.model_selection import train_test_split\n",
    "from datasets import Dataset\n",
    "\n",
    "# Train-test split\n",
    "train_df, test_df = train_test_split(df, test_size=0.2, stratify=df[\"label\"], random_state=42)\n",
    "\n",
    "# Convert to Hugging Face Dataset format\n",
    "train_dataset = Dataset.from_pandas(train_df[[\"question\", \"label\"]])\n",
    "test_dataset = Dataset.from_pandas(test_df[[\"question\", \"label\"]])"
   ]
  },
  {
   "cell_type": "code",
   "execution_count": 5,
   "id": "57abb7a4",
   "metadata": {},
   "outputs": [
    {
     "name": "stderr",
     "output_type": "stream",
     "text": [
      "W0805 09:01:27.407330 14064 Lib\\site-packages\\torch\\distributed\\elastic\\multiprocessing\\redirects.py:29] NOTE: Redirects are currently not supported in Windows or MacOs.\n",
      "Map: 100%|██████████| 2460/2460 [00:00<00:00, 4491.90 examples/s]\n",
      "Map: 100%|██████████| 615/615 [00:00<00:00, 5321.39 examples/s]\n",
      "Some weights of BertForSequenceClassification were not initialized from the model checkpoint at bert-base-uncased and are newly initialized: ['classifier.bias', 'classifier.weight']\n",
      "You should probably TRAIN this model on a down-stream task to be able to use it for predictions and inference.\n",
      "c:\\Source\\conestoga\\misc\\CSCN8010_Project-Student_Success_Advisors\\.venv\\lib\\site-packages\\transformers\\training_args.py:1474: FutureWarning: `evaluation_strategy` is deprecated and will be removed in version 4.46 of 🤗 Transformers. Use `eval_strategy` instead\n",
      "  warnings.warn(\n"
     ]
    }
   ],
   "source": [
    "from transformers import BertTokenizer, BertForSequenceClassification, TrainingArguments, Trainer, EarlyStoppingCallback\n",
    "from sklearn.metrics import accuracy_score, f1_score, precision_score, recall_score\n",
    "import torch\n",
    "\n",
    "# Tokenizer\n",
    "tokenizer = BertTokenizer.from_pretrained(\"bert-base-uncased\")\n",
    "\n",
    "def tokenize(batch):\n",
    "    return tokenizer(batch[\"question\"], padding=True, truncation=True)\n",
    "\n",
    "train_dataset = train_dataset.map(tokenize, batched=True)\n",
    "test_dataset = test_dataset.map(tokenize, batched=True)\n",
    "\n",
    "# Set format for PyTorch\n",
    "train_dataset.set_format(\"torch\", columns=[\"input_ids\", \"attention_mask\", \"label\"])\n",
    "test_dataset.set_format(\"torch\", columns=[\"input_ids\", \"attention_mask\", \"label\"])\n",
    "\n",
    "# Model setup\n",
    "model = BertForSequenceClassification.from_pretrained(\n",
    "    \"bert-base-uncased\",\n",
    "    num_labels=len(intent_labels)\n",
    ")\n",
    "\n",
    "# Metrics\n",
    "def compute_metrics(pred):\n",
    "    logits, labels = pred\n",
    "    preds = logits.argmax(axis=1)\n",
    "    return {\n",
    "        \"accuracy\": accuracy_score(labels, preds),\n",
    "        \"f1\": f1_score(labels, preds, average=\"weighted\"),\n",
    "        \"precision\": precision_score(labels, preds, average=\"weighted\"),\n",
    "        \"recall\": recall_score(labels, preds, average=\"weighted\"),\n",
    "    }\n",
    "\n",
    "# Training arguments\n",
    "training_args = TrainingArguments(\n",
    "    output_dir=\"./results\",\n",
    "    evaluation_strategy=\"epoch\",\n",
    "    save_strategy=\"epoch\",\n",
    "    load_best_model_at_end=True,\n",
    "    metric_for_best_model=\"eval_f1\",\n",
    "    greater_is_better=True,\n",
    "    learning_rate=2e-5,\n",
    "    per_device_train_batch_size=16,\n",
    "    per_device_eval_batch_size=64,\n",
    "    num_train_epochs=10,\n",
    "    weight_decay=0.01,\n",
    "    logging_dir=\"./logs\",\n",
    "    logging_steps=100,\n",
    ")\n",
    "\n",
    "# Trainer\n",
    "trainer = Trainer(\n",
    "    model=model,\n",
    "    args=training_args,\n",
    "    train_dataset=train_dataset,\n",
    "    eval_dataset=test_dataset,\n",
    "    compute_metrics=compute_metrics,\n",
    "    callbacks=[EarlyStoppingCallback(early_stopping_patience=2)]\n",
    ")"
   ]
  },
  {
   "cell_type": "code",
   "execution_count": 6,
   "id": "c7df92ff",
   "metadata": {},
   "outputs": [
    {
     "name": "stderr",
     "output_type": "stream",
     "text": [
      "  0%|          | 0/1540 [00:00<?, ?it/s]c:\\Source\\conestoga\\misc\\CSCN8010_Project-Student_Success_Advisors\\.venv\\lib\\site-packages\\torch\\utils\\data\\dataloader.py:665: UserWarning: 'pin_memory' argument is set as true but no accelerator is found, then device pinned memory won't be used.\n",
      "  warnings.warn(warn_msg)\n",
      "  6%|▋         | 100/1540 [03:18<1:09:46,  2.91s/it]"
     ]
    },
    {
     "name": "stdout",
     "output_type": "stream",
     "text": [
      "{'loss': 1.8448, 'grad_norm': 8.134522438049316, 'learning_rate': 1.8701298701298704e-05, 'epoch': 0.65}\n"
     ]
    },
    {
     "name": "stderr",
     "output_type": "stream",
     "text": [
      "                                                    \n",
      " 10%|█         | 154/1540 [06:25<1:08:32,  2.97s/it]"
     ]
    },
    {
     "name": "stdout",
     "output_type": "stream",
     "text": [
      "{'eval_loss': 0.3557010889053345, 'eval_accuracy': 0.9934959349593496, 'eval_f1': 0.9934746332514641, 'eval_precision': 0.9936120789779326, 'eval_recall': 0.9934959349593496, 'eval_runtime': 24.7411, 'eval_samples_per_second': 24.857, 'eval_steps_per_second': 0.404, 'epoch': 1.0}\n"
     ]
    },
    {
     "name": "stderr",
     "output_type": "stream",
     "text": [
      "c:\\Source\\conestoga\\misc\\CSCN8010_Project-Student_Success_Advisors\\.venv\\lib\\site-packages\\torch\\utils\\data\\dataloader.py:665: UserWarning: 'pin_memory' argument is set as true but no accelerator is found, then device pinned memory won't be used.\n",
      "  warnings.warn(warn_msg)\n",
      " 13%|█▎        | 200/1540 [08:55<1:09:02,  3.09s/it]"
     ]
    },
    {
     "name": "stdout",
     "output_type": "stream",
     "text": [
      "{'loss': 0.5088, 'grad_norm': 6.989756107330322, 'learning_rate': 1.7402597402597403e-05, 'epoch': 1.3}\n"
     ]
    },
    {
     "name": "stderr",
     "output_type": "stream",
     "text": [
      " 19%|█▉        | 300/1540 [13:58<57:07,  2.76s/it]  "
     ]
    },
    {
     "name": "stdout",
     "output_type": "stream",
     "text": [
      "{'loss': 0.1085, 'grad_norm': 0.36964452266693115, 'learning_rate': 1.6103896103896105e-05, 'epoch': 1.95}\n"
     ]
    },
    {
     "name": "stderr",
     "output_type": "stream",
     "text": [
      "                                                    \n",
      " 20%|██        | 308/1540 [14:47<57:50,  2.82s/it]"
     ]
    },
    {
     "name": "stdout",
     "output_type": "stream",
     "text": [
      "{'eval_loss': 0.04386812075972557, 'eval_accuracy': 0.9967479674796748, 'eval_f1': 0.9967474837622093, 'eval_precision': 0.9968253968253968, 'eval_recall': 0.9967479674796748, 'eval_runtime': 25.5238, 'eval_samples_per_second': 24.095, 'eval_steps_per_second': 0.392, 'epoch': 2.0}\n"
     ]
    },
    {
     "name": "stderr",
     "output_type": "stream",
     "text": [
      "c:\\Source\\conestoga\\misc\\CSCN8010_Project-Student_Success_Advisors\\.venv\\lib\\site-packages\\torch\\utils\\data\\dataloader.py:665: UserWarning: 'pin_memory' argument is set as true but no accelerator is found, then device pinned memory won't be used.\n",
      "  warnings.warn(warn_msg)\n",
      " 26%|██▌       | 400/1540 [19:32<58:20,  3.07s/it]  "
     ]
    },
    {
     "name": "stdout",
     "output_type": "stream",
     "text": [
      "{'loss': 0.0367, 'grad_norm': 0.16102400422096252, 'learning_rate': 1.4805194805194807e-05, 'epoch': 2.6}\n"
     ]
    },
    {
     "name": "stderr",
     "output_type": "stream",
     "text": [
      "                                                    \n",
      " 30%|███       | 462/1540 [22:28<51:47,  2.88s/it]"
     ]
    },
    {
     "name": "stdout",
     "output_type": "stream",
     "text": [
      "{'eval_loss': 0.024349894374608994, 'eval_accuracy': 0.9934959349593496, 'eval_f1': 0.993493515508241, 'eval_precision': 0.9937246216315984, 'eval_recall': 0.9934959349593496, 'eval_runtime': 18.3492, 'eval_samples_per_second': 33.517, 'eval_steps_per_second': 0.545, 'epoch': 3.0}\n"
     ]
    },
    {
     "name": "stderr",
     "output_type": "stream",
     "text": [
      "c:\\Source\\conestoga\\misc\\CSCN8010_Project-Student_Success_Advisors\\.venv\\lib\\site-packages\\torch\\utils\\data\\dataloader.py:665: UserWarning: 'pin_memory' argument is set as true but no accelerator is found, then device pinned memory won't be used.\n",
      "  warnings.warn(warn_msg)\n",
      " 32%|███▏      | 500/1540 [24:17<53:58,  3.11s/it]  "
     ]
    },
    {
     "name": "stdout",
     "output_type": "stream",
     "text": [
      "{'loss': 0.0186, 'grad_norm': 0.14554224908351898, 'learning_rate': 1.3506493506493508e-05, 'epoch': 3.25}\n"
     ]
    },
    {
     "name": "stderr",
     "output_type": "stream",
     "text": [
      " 39%|███▉      | 600/1540 [29:26<46:02,  2.94s/it]"
     ]
    },
    {
     "name": "stdout",
     "output_type": "stream",
     "text": [
      "{'loss': 0.0137, 'grad_norm': 0.07530274987220764, 'learning_rate': 1.2207792207792208e-05, 'epoch': 3.9}\n"
     ]
    },
    {
     "name": "stderr",
     "output_type": "stream",
     "text": [
      "                                                  \n",
      " 40%|████      | 616/1540 [30:01<22:53,  1.49s/it]"
     ]
    },
    {
     "name": "stdout",
     "output_type": "stream",
     "text": [
      "{'eval_loss': 0.020941605791449547, 'eval_accuracy': 0.9934959349593496, 'eval_f1': 0.993493515508241, 'eval_precision': 0.9937246216315984, 'eval_recall': 0.9934959349593496, 'eval_runtime': 12.9016, 'eval_samples_per_second': 47.668, 'eval_steps_per_second': 0.775, 'epoch': 4.0}\n"
     ]
    },
    {
     "name": "stderr",
     "output_type": "stream",
     "text": [
      " 40%|████      | 616/1540 [30:14<45:22,  2.95s/it]\n",
      "c:\\Source\\conestoga\\misc\\CSCN8010_Project-Student_Success_Advisors\\.venv\\lib\\site-packages\\torch\\utils\\data\\dataloader.py:665: UserWarning: 'pin_memory' argument is set as true but no accelerator is found, then device pinned memory won't be used.\n",
      "  warnings.warn(warn_msg)\n"
     ]
    },
    {
     "name": "stdout",
     "output_type": "stream",
     "text": [
      "{'train_runtime': 1814.8303, 'train_samples_per_second': 13.555, 'train_steps_per_second': 0.849, 'train_loss': 0.41116700860877314, 'epoch': 4.0}\n"
     ]
    },
    {
     "name": "stderr",
     "output_type": "stream",
     "text": [
      "100%|██████████| 10/10 [00:22<00:00,  2.22s/it]\n"
     ]
    },
    {
     "data": {
      "text/plain": [
       "{'eval_loss': 0.04386812075972557,\n",
       " 'eval_accuracy': 0.9967479674796748,\n",
       " 'eval_f1': 0.9967474837622093,\n",
       " 'eval_precision': 0.9968253968253968,\n",
       " 'eval_recall': 0.9967479674796748,\n",
       " 'eval_runtime': 24.7237,\n",
       " 'eval_samples_per_second': 24.875,\n",
       " 'eval_steps_per_second': 0.404,\n",
       " 'epoch': 4.0}"
      ]
     },
     "execution_count": 6,
     "metadata": {},
     "output_type": "execute_result"
    }
   ],
   "source": [
    "# Train the model\n",
    "trainer.train()\n",
    "\n",
    "# Evaluate on test set\n",
    "trainer.evaluate()"
   ]
  },
  {
   "cell_type": "code",
   "execution_count": 7,
   "id": "ddec690c",
   "metadata": {},
   "outputs": [
    {
     "data": {
      "text/plain": [
       "('../../models/intentClassifier\\\\tokenizer_config.json',\n",
       " '../../models/intentClassifier\\\\special_tokens_map.json',\n",
       " '../../models/intentClassifier\\\\vocab.txt',\n",
       " '../../models/intentClassifier\\\\added_tokens.json')"
      ]
     },
     "execution_count": 7,
     "metadata": {},
     "output_type": "execute_result"
    }
   ],
   "source": [
    "trainer.save_model(\"../../models/intentClassifier\")\n",
    "tokenizer.save_pretrained(\"../../models/intentClassifier\")"
   ]
  },
  {
   "cell_type": "code",
   "execution_count": 8,
   "id": "f269af53",
   "metadata": {},
   "outputs": [],
   "source": [
    "# Inference example\n",
    "def predict_intent(text):\n",
    "    inputs = tokenizer(text, return_tensors=\"pt\", padding=True, truncation=True)\n",
    "    with torch.no_grad():\n",
    "        outputs = model(**inputs)\n",
    "        predicted_class_id = outputs.logits.argmax().item()\n",
    "    return intent_labels[predicted_class_id]"
   ]
  },
  {
   "cell_type": "code",
   "execution_count": 9,
   "id": "53290c1c",
   "metadata": {},
   "outputs": [
    {
     "name": "stdout",
     "output_type": "stream",
     "text": [
      "Scholarship/Financial Aid\n",
      "General Complaint\n",
      "Extracurricular Activities\n"
     ]
    }
   ],
   "source": [
    "# Example usage\n",
    "print(predict_intent(\"How do I apply for scholarships?\"))\n",
    "print(predict_intent(\"I have a complaint about the cafeteria service?\"))\n",
    "print(predict_intent(\"Are there any upcoming student events\"))"
   ]
  },
  {
   "cell_type": "code",
   "execution_count": 10,
   "id": "040d3b95",
   "metadata": {},
   "outputs": [
    {
     "name": "stdout",
     "output_type": "stream",
     "text": [
      "Tuition/Fees Inquiry\n",
      "Tuition/Fees Inquiry\n"
     ]
    }
   ],
   "source": [
    "print(predict_intent(\"When is the tuition payment deadline?\"))\n",
    "print(predict_intent(\"Hi, I'm trying to figure out how to pay my tuition fees.\"))"
   ]
  }
 ],
 "metadata": {
  "kernelspec": {
   "display_name": ".venv (3.10.0)",
   "language": "python",
   "name": "python3"
  },
  "language_info": {
   "codemirror_mode": {
    "name": "ipython",
    "version": 3
   },
   "file_extension": ".py",
   "mimetype": "text/x-python",
   "name": "python",
   "nbconvert_exporter": "python",
   "pygments_lexer": "ipython3",
   "version": "3.10.0"
  }
 },
 "nbformat": 4,
 "nbformat_minor": 5
}

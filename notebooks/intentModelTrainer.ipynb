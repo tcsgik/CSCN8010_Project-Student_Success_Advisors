{
 "cells": [
  {
   "cell_type": "markdown",
   "id": "0dfe7502",
   "metadata": {},
   "source": [
    "## Intent classifier trainer\n",
    "\n",
    "* Dataset: student_queries.csv file with synthetic messages, each labeled with one of the intent categories, such as: Course Information, Enrollment / Course Registration, Withdrawal or Drop Course, Scholarship/Financial Aid, etc.\n",
    "* Task: Single-label classification to predict the intent behind the student's query.\n",
    "* Model: Use BertForSequenceClassification, fine-tuned on the intent dataset.\n",
    "* Goal: To determine the purpose of a query.\n",
    "* The trained model is saved to models/intentClassifier."
   ]
  },
  {
   "cell_type": "code",
   "execution_count": 27,
   "id": "1c5174a8",
   "metadata": {},
   "outputs": [],
   "source": [
    "intent_labels = [\n",
    "        \"Course Information\",\n",
    "        \"Enrollment / Course Registration\",\n",
    "        \"Withdrawal or Drop Course\",\n",
    "        \"Access Issues (portal/login)\",\n",
    "        \"Technical Support\",\n",
    "        \"Tuition/Fees Inquiry\",\n",
    "        \"Scholarship/Financial Aid\",\n",
    "        \"Mental Health Concerns\",\n",
    "        \"Stress or Burnout\",\n",
    "        \"Bullying or Harassment\",\n",
    "        \"Administrative Support\",\n",
    "        \"Campus Facilities\",\n",
    "        \"Housing/Accommodation\",\n",
    "        \"Extracurricular Activities\",\n",
    "        \"General Complaint\"\n",
    "    ]"
   ]
  },
  {
   "cell_type": "code",
   "execution_count": null,
   "id": "5b13eaa7",
   "metadata": {},
   "outputs": [],
   "source": [
    "import pandas as pd\n",
    "\n",
    "label_to_id = {label: idx for idx, label in enumerate(intent_labels)}\n",
    "id_to_label = {idx: label for idx, label in enumerate(intent_labels)}\n",
    "\n",
    "df = pd.read_csv(\"../data/student_queries.csv\")\n",
    "\n",
    "# Encode labels\n",
    "df[\"label\"] = df[\"intent\"].map(label_to_id)\n",
    "df = df.dropna(subset=[\"label\"])\n",
    "\n",
    "# convert label to int (from float due to NaN)\n",
    "df[\"label\"] = df[\"label\"].astype(int)"
   ]
  },
  {
   "cell_type": "code",
   "execution_count": 29,
   "id": "32bd868b",
   "metadata": {},
   "outputs": [
    {
     "data": {
      "application/vnd.microsoft.datawrangler.viewer.v0+json": {
       "columns": [
        {
         "name": "index",
         "rawType": "int64",
         "type": "integer"
        },
        {
         "name": "datetime",
         "rawType": "object",
         "type": "string"
        },
        {
         "name": "student",
         "rawType": "object",
         "type": "string"
        },
        {
         "name": "question",
         "rawType": "object",
         "type": "string"
        },
        {
         "name": "intent",
         "rawType": "object",
         "type": "string"
        },
        {
         "name": "is_distressed",
         "rawType": "object",
         "type": "string"
        },
        {
         "name": "label",
         "rawType": "int64",
         "type": "integer"
        }
       ],
       "ref": "d75f3556-8f2c-467b-aca3-5b6524cf5b5a",
       "rows": [
        [
         "0",
         "2025-07-04 14:07:23",
         "Shannon Austin",
         "What topics will be covered in the AI course?",
         "Course Information",
         "False",
         "0"
        ],
        [
         "1",
         "2025-07-04 16:13:28",
         "Stephanie Calhoun",
         "I'm feeling really overwhelmed lately.",
         "Mental Health Concerns",
         "True",
         "7"
        ],
        [
         "2",
         "2025-07-04 16:19:28",
         "Kevin Garcia",
         "Who do I contact for transcript requests?",
         "Administrative Support",
         "False",
         "10"
        ],
        [
         "3",
         "2025-07-04 16:55:20",
         "Lisa Duran",
         "I have a complaint about the cafeteria service.",
         "General Complaint",
         "True",
         "14"
        ],
        [
         "4",
         "2025-07-04 17:08:35",
         "Jeff Rangel",
         "Who do I contact for transcript requests?",
         "Administrative Support",
         "False",
         "10"
        ]
       ],
       "shape": {
        "columns": 6,
        "rows": 5
       }
      },
      "text/html": [
       "<div>\n",
       "<style scoped>\n",
       "    .dataframe tbody tr th:only-of-type {\n",
       "        vertical-align: middle;\n",
       "    }\n",
       "\n",
       "    .dataframe tbody tr th {\n",
       "        vertical-align: top;\n",
       "    }\n",
       "\n",
       "    .dataframe thead th {\n",
       "        text-align: right;\n",
       "    }\n",
       "</style>\n",
       "<table border=\"1\" class=\"dataframe\">\n",
       "  <thead>\n",
       "    <tr style=\"text-align: right;\">\n",
       "      <th></th>\n",
       "      <th>datetime</th>\n",
       "      <th>student</th>\n",
       "      <th>question</th>\n",
       "      <th>intent</th>\n",
       "      <th>is_distressed</th>\n",
       "      <th>label</th>\n",
       "    </tr>\n",
       "  </thead>\n",
       "  <tbody>\n",
       "    <tr>\n",
       "      <th>0</th>\n",
       "      <td>2025-07-04 14:07:23</td>\n",
       "      <td>Shannon Austin</td>\n",
       "      <td>What topics will be covered in the AI course?</td>\n",
       "      <td>Course Information</td>\n",
       "      <td>False</td>\n",
       "      <td>0</td>\n",
       "    </tr>\n",
       "    <tr>\n",
       "      <th>1</th>\n",
       "      <td>2025-07-04 16:13:28</td>\n",
       "      <td>Stephanie Calhoun</td>\n",
       "      <td>I'm feeling really overwhelmed lately.</td>\n",
       "      <td>Mental Health Concerns</td>\n",
       "      <td>True</td>\n",
       "      <td>7</td>\n",
       "    </tr>\n",
       "    <tr>\n",
       "      <th>2</th>\n",
       "      <td>2025-07-04 16:19:28</td>\n",
       "      <td>Kevin Garcia</td>\n",
       "      <td>Who do I contact for transcript requests?</td>\n",
       "      <td>Administrative Support</td>\n",
       "      <td>False</td>\n",
       "      <td>10</td>\n",
       "    </tr>\n",
       "    <tr>\n",
       "      <th>3</th>\n",
       "      <td>2025-07-04 16:55:20</td>\n",
       "      <td>Lisa Duran</td>\n",
       "      <td>I have a complaint about the cafeteria service.</td>\n",
       "      <td>General Complaint</td>\n",
       "      <td>True</td>\n",
       "      <td>14</td>\n",
       "    </tr>\n",
       "    <tr>\n",
       "      <th>4</th>\n",
       "      <td>2025-07-04 17:08:35</td>\n",
       "      <td>Jeff Rangel</td>\n",
       "      <td>Who do I contact for transcript requests?</td>\n",
       "      <td>Administrative Support</td>\n",
       "      <td>False</td>\n",
       "      <td>10</td>\n",
       "    </tr>\n",
       "  </tbody>\n",
       "</table>\n",
       "</div>"
      ],
      "text/plain": [
       "              datetime            student  \\\n",
       "0  2025-07-04 14:07:23     Shannon Austin   \n",
       "1  2025-07-04 16:13:28  Stephanie Calhoun   \n",
       "2  2025-07-04 16:19:28       Kevin Garcia   \n",
       "3  2025-07-04 16:55:20         Lisa Duran   \n",
       "4  2025-07-04 17:08:35        Jeff Rangel   \n",
       "\n",
       "                                          question                  intent  \\\n",
       "0    What topics will be covered in the AI course?      Course Information   \n",
       "1           I'm feeling really overwhelmed lately.  Mental Health Concerns   \n",
       "2        Who do I contact for transcript requests?  Administrative Support   \n",
       "3  I have a complaint about the cafeteria service.       General Complaint   \n",
       "4        Who do I contact for transcript requests?  Administrative Support   \n",
       "\n",
       "  is_distressed  label  \n",
       "0         False      0  \n",
       "1          True      7  \n",
       "2         False     10  \n",
       "3          True     14  \n",
       "4         False     10  "
      ]
     },
     "execution_count": 29,
     "metadata": {},
     "output_type": "execute_result"
    }
   ],
   "source": [
    "df.head()"
   ]
  },
  {
   "cell_type": "code",
   "execution_count": 30,
   "id": "a34cc346",
   "metadata": {},
   "outputs": [],
   "source": [
    "from sklearn.model_selection import train_test_split\n",
    "from datasets import Dataset\n",
    "\n",
    "# Train-test split\n",
    "train_df, test_df = train_test_split(df, test_size=0.2, stratify=df[\"label\"], random_state=42)\n",
    "\n",
    "# Convert to Hugging Face Dataset format\n",
    "train_dataset = Dataset.from_pandas(train_df[[\"question\", \"label\"]])\n",
    "test_dataset = Dataset.from_pandas(test_df[[\"question\", \"label\"]])"
   ]
  },
  {
   "cell_type": "code",
   "execution_count": 31,
   "id": "57abb7a4",
   "metadata": {},
   "outputs": [
    {
     "name": "stderr",
     "output_type": "stream",
     "text": [
      "Map: 100%|██████████| 2460/2460 [00:00<00:00, 9117.18 examples/s]\n",
      "Map: 100%|██████████| 615/615 [00:00<00:00, 10244.55 examples/s]\n",
      "Some weights of BertForSequenceClassification were not initialized from the model checkpoint at bert-base-uncased and are newly initialized: ['classifier.bias', 'classifier.weight']\n",
      "You should probably TRAIN this model on a down-stream task to be able to use it for predictions and inference.\n",
      "/Users/hsi/1557code/FML/PROG824_CSCN8010-Final_Project_Dry_Run/.venvpj/lib/python3.10/site-packages/transformers/training_args.py:1474: FutureWarning: `evaluation_strategy` is deprecated and will be removed in version 4.46 of 🤗 Transformers. Use `eval_strategy` instead\n",
      "  warnings.warn(\n"
     ]
    }
   ],
   "source": [
    "from transformers import BertTokenizer, BertForSequenceClassification, TrainingArguments, Trainer, EarlyStoppingCallback\n",
    "from sklearn.metrics import accuracy_score, f1_score, precision_score, recall_score\n",
    "import torch\n",
    "\n",
    "# Tokenizer\n",
    "tokenizer = BertTokenizer.from_pretrained(\"bert-base-uncased\")\n",
    "\n",
    "def tokenize(batch):\n",
    "    return tokenizer(batch[\"question\"], padding=True, truncation=True)\n",
    "\n",
    "train_dataset = train_dataset.map(tokenize, batched=True)\n",
    "test_dataset = test_dataset.map(tokenize, batched=True)\n",
    "\n",
    "# Set format for PyTorch\n",
    "train_dataset.set_format(\"torch\", columns=[\"input_ids\", \"attention_mask\", \"label\"])\n",
    "test_dataset.set_format(\"torch\", columns=[\"input_ids\", \"attention_mask\", \"label\"])\n",
    "\n",
    "# Model setup\n",
    "model = BertForSequenceClassification.from_pretrained(\n",
    "    \"bert-base-uncased\",\n",
    "    num_labels=len(intent_labels)\n",
    ")\n",
    "\n",
    "# Metrics\n",
    "def compute_metrics(pred):\n",
    "    logits, labels = pred\n",
    "    preds = logits.argmax(axis=1)\n",
    "    return {\n",
    "        \"accuracy\": accuracy_score(labels, preds),\n",
    "        \"f1\": f1_score(labels, preds, average=\"weighted\"),\n",
    "        \"precision\": precision_score(labels, preds, average=\"weighted\"),\n",
    "        \"recall\": recall_score(labels, preds, average=\"weighted\"),\n",
    "    }\n",
    "\n",
    "# Training arguments\n",
    "training_args = TrainingArguments(\n",
    "    output_dir=\"./results\",\n",
    "    evaluation_strategy=\"epoch\",\n",
    "    save_strategy=\"epoch\",\n",
    "    load_best_model_at_end=True,\n",
    "    metric_for_best_model=\"eval_f1\",\n",
    "    greater_is_better=True,\n",
    "    learning_rate=2e-5,\n",
    "    per_device_train_batch_size=16,\n",
    "    per_device_eval_batch_size=64,\n",
    "    num_train_epochs=10,\n",
    "    weight_decay=0.01,\n",
    "    logging_dir=\"./logs\",\n",
    "    logging_steps=100,\n",
    ")\n",
    "\n",
    "# Trainer\n",
    "trainer = Trainer(\n",
    "    model=model,\n",
    "    args=training_args,\n",
    "    train_dataset=train_dataset,\n",
    "    eval_dataset=test_dataset,\n",
    "    compute_metrics=compute_metrics,\n",
    "    callbacks=[EarlyStoppingCallback(early_stopping_patience=2)]\n",
    ")"
   ]
  },
  {
   "cell_type": "code",
   "execution_count": 32,
   "id": "c7df92ff",
   "metadata": {},
   "outputs": [
    {
     "name": "stderr",
     "output_type": "stream",
     "text": [
      "  0%|          | 0/1540 [00:00<?, ?it/s]/Users/hsi/1557code/FML/PROG824_CSCN8010-Final_Project_Dry_Run/.venvpj/lib/python3.10/site-packages/torch/utils/data/dataloader.py:683: UserWarning: 'pin_memory' argument is set as true but not supported on MPS now, then device pinned memory won't be used.\n",
      "  warnings.warn(warn_msg)\n",
      "  6%|▋         | 100/1540 [00:37<08:15,  2.90it/s]"
     ]
    },
    {
     "name": "stdout",
     "output_type": "stream",
     "text": [
      "{'loss': 2.0215, 'grad_norm': 6.998689651489258, 'learning_rate': 1.8701298701298704e-05, 'epoch': 0.65}\n"
     ]
    },
    {
     "name": "stderr",
     "output_type": "stream",
     "text": [
      " 10%|█         | 154/1540 [00:56<08:12,  2.81it/s]\n",
      " 10%|█         | 154/1540 [00:58<08:12,  2.81it/s]"
     ]
    },
    {
     "name": "stdout",
     "output_type": "stream",
     "text": [
      "{'eval_loss': 0.47589096426963806, 'eval_accuracy': 0.9853658536585366, 'eval_f1': 0.9854004377297552, 'eval_precision': 0.9858250276854928, 'eval_recall': 0.9853658536585366, 'eval_runtime': 1.7907, 'eval_samples_per_second': 343.44, 'eval_steps_per_second': 5.584, 'epoch': 1.0}\n"
     ]
    },
    {
     "name": "stderr",
     "output_type": "stream",
     "text": [
      "/Users/hsi/1557code/FML/PROG824_CSCN8010-Final_Project_Dry_Run/.venvpj/lib/python3.10/site-packages/torch/utils/data/dataloader.py:683: UserWarning: 'pin_memory' argument is set as true but not supported on MPS now, then device pinned memory won't be used.\n",
      "  warnings.warn(warn_msg)\n",
      " 13%|█▎        | 200/1540 [01:16<07:36,  2.93it/s]"
     ]
    },
    {
     "name": "stdout",
     "output_type": "stream",
     "text": [
      "{'loss': 0.6386, 'grad_norm': 6.08300256729126, 'learning_rate': 1.7402597402597403e-05, 'epoch': 1.3}\n"
     ]
    },
    {
     "name": "stderr",
     "output_type": "stream",
     "text": [
      " 19%|█▉        | 300/1540 [01:51<07:10,  2.88it/s]"
     ]
    },
    {
     "name": "stdout",
     "output_type": "stream",
     "text": [
      "{'loss': 0.1152, 'grad_norm': 0.37689802050590515, 'learning_rate': 1.6103896103896105e-05, 'epoch': 1.95}\n"
     ]
    },
    {
     "name": "stderr",
     "output_type": "stream",
     "text": [
      " 20%|██        | 308/1540 [01:54<07:05,  2.90it/s]\n",
      " 20%|██        | 308/1540 [01:55<07:05,  2.90it/s]"
     ]
    },
    {
     "name": "stdout",
     "output_type": "stream",
     "text": [
      "{'eval_loss': 0.060014765709638596, 'eval_accuracy': 0.9886178861788618, 'eval_f1': 0.9886164350264652, 'eval_precision': 0.9887708091366628, 'eval_recall': 0.9886178861788618, 'eval_runtime': 1.7363, 'eval_samples_per_second': 354.211, 'eval_steps_per_second': 5.76, 'epoch': 2.0}\n"
     ]
    },
    {
     "name": "stderr",
     "output_type": "stream",
     "text": [
      "/Users/hsi/1557code/FML/PROG824_CSCN8010-Final_Project_Dry_Run/.venvpj/lib/python3.10/site-packages/torch/utils/data/dataloader.py:683: UserWarning: 'pin_memory' argument is set as true but not supported on MPS now, then device pinned memory won't be used.\n",
      "  warnings.warn(warn_msg)\n",
      " 26%|██▌       | 400/1540 [02:29<06:25,  2.96it/s]"
     ]
    },
    {
     "name": "stdout",
     "output_type": "stream",
     "text": [
      "{'loss': 0.0348, 'grad_norm': 0.17868250608444214, 'learning_rate': 1.4805194805194807e-05, 'epoch': 2.6}\n"
     ]
    },
    {
     "name": "stderr",
     "output_type": "stream",
     "text": [
      " 30%|███       | 462/1540 [02:50<06:04,  2.96it/s]\n",
      " 30%|███       | 462/1540 [02:52<06:04,  2.96it/s]"
     ]
    },
    {
     "name": "stdout",
     "output_type": "stream",
     "text": [
      "{'eval_loss': 0.04414517059922218, 'eval_accuracy': 0.9902439024390244, 'eval_f1': 0.9902409992704504, 'eval_precision': 0.9905500184569951, 'eval_recall': 0.9902439024390244, 'eval_runtime': 1.7293, 'eval_samples_per_second': 355.641, 'eval_steps_per_second': 5.783, 'epoch': 3.0}\n"
     ]
    },
    {
     "name": "stderr",
     "output_type": "stream",
     "text": [
      "/Users/hsi/1557code/FML/PROG824_CSCN8010-Final_Project_Dry_Run/.venvpj/lib/python3.10/site-packages/torch/utils/data/dataloader.py:683: UserWarning: 'pin_memory' argument is set as true but not supported on MPS now, then device pinned memory won't be used.\n",
      "  warnings.warn(warn_msg)\n",
      " 32%|███▏      | 500/1540 [03:07<05:49,  2.98it/s]"
     ]
    },
    {
     "name": "stdout",
     "output_type": "stream",
     "text": [
      "{'loss': 0.0222, 'grad_norm': 0.13536950945854187, 'learning_rate': 1.3506493506493508e-05, 'epoch': 3.25}\n"
     ]
    },
    {
     "name": "stderr",
     "output_type": "stream",
     "text": [
      " 39%|███▉      | 600/1540 [03:41<05:25,  2.89it/s]"
     ]
    },
    {
     "name": "stdout",
     "output_type": "stream",
     "text": [
      "{'loss': 0.0168, 'grad_norm': 0.08021040260791779, 'learning_rate': 1.2207792207792208e-05, 'epoch': 3.9}\n"
     ]
    },
    {
     "name": "stderr",
     "output_type": "stream",
     "text": [
      " 40%|████      | 616/1540 [03:47<05:15,  2.93it/s]\n",
      " 40%|████      | 616/1540 [03:49<05:15,  2.93it/s]"
     ]
    },
    {
     "name": "stdout",
     "output_type": "stream",
     "text": [
      "{'eval_loss': 0.03970937058329582, 'eval_accuracy': 0.9886178861788618, 'eval_f1': 0.9886164350264652, 'eval_precision': 0.9887708091366628, 'eval_recall': 0.9886178861788618, 'eval_runtime': 1.7499, 'eval_samples_per_second': 351.441, 'eval_steps_per_second': 5.714, 'epoch': 4.0}\n"
     ]
    },
    {
     "name": "stderr",
     "output_type": "stream",
     "text": [
      "/Users/hsi/1557code/FML/PROG824_CSCN8010-Final_Project_Dry_Run/.venvpj/lib/python3.10/site-packages/torch/utils/data/dataloader.py:683: UserWarning: 'pin_memory' argument is set as true but not supported on MPS now, then device pinned memory won't be used.\n",
      "  warnings.warn(warn_msg)\n",
      " 45%|████▌     | 700/1540 [04:24<04:56,  2.83it/s]"
     ]
    },
    {
     "name": "stdout",
     "output_type": "stream",
     "text": [
      "{'loss': 0.0101, 'grad_norm': 0.08191785216331482, 'learning_rate': 1.0909090909090909e-05, 'epoch': 4.55}\n"
     ]
    },
    {
     "name": "stderr",
     "output_type": "stream",
     "text": [
      " 50%|█████     | 770/1540 [04:50<04:35,  2.79it/s]\n",
      " 50%|█████     | 770/1540 [04:52<04:35,  2.79it/s]"
     ]
    },
    {
     "name": "stdout",
     "output_type": "stream",
     "text": [
      "{'eval_loss': 0.04177943989634514, 'eval_accuracy': 0.9869918699186991, 'eval_f1': 0.9869696007758829, 'eval_precision': 0.9871835075493612, 'eval_recall': 0.9869918699186991, 'eval_runtime': 1.8538, 'eval_samples_per_second': 331.753, 'eval_steps_per_second': 5.394, 'epoch': 5.0}\n"
     ]
    },
    {
     "name": "stderr",
     "output_type": "stream",
     "text": [
      " 50%|█████     | 770/1540 [04:56<04:56,  2.60it/s]\n",
      "/Users/hsi/1557code/FML/PROG824_CSCN8010-Final_Project_Dry_Run/.venvpj/lib/python3.10/site-packages/torch/utils/data/dataloader.py:683: UserWarning: 'pin_memory' argument is set as true but not supported on MPS now, then device pinned memory won't be used.\n",
      "  warnings.warn(warn_msg)\n"
     ]
    },
    {
     "name": "stdout",
     "output_type": "stream",
     "text": [
      "{'train_runtime': 296.3664, 'train_samples_per_second': 83.005, 'train_steps_per_second': 5.196, 'train_loss': 0.37213142839345065, 'epoch': 5.0}\n"
     ]
    },
    {
     "name": "stderr",
     "output_type": "stream",
     "text": [
      "100%|██████████| 10/10 [00:01<00:00,  6.38it/s]\n"
     ]
    },
    {
     "data": {
      "text/plain": [
       "{'eval_loss': 0.04414517059922218,\n",
       " 'eval_accuracy': 0.9902439024390244,\n",
       " 'eval_f1': 0.9902409992704504,\n",
       " 'eval_precision': 0.9905500184569951,\n",
       " 'eval_recall': 0.9902439024390244,\n",
       " 'eval_runtime': 1.9358,\n",
       " 'eval_samples_per_second': 317.696,\n",
       " 'eval_steps_per_second': 5.166,\n",
       " 'epoch': 5.0}"
      ]
     },
     "execution_count": 32,
     "metadata": {},
     "output_type": "execute_result"
    }
   ],
   "source": [
    "# Train the model\n",
    "trainer.train()\n",
    "\n",
    "# Evaluate on test set\n",
    "trainer.evaluate()"
   ]
  },
  {
   "cell_type": "code",
   "execution_count": 38,
   "id": "ddec690c",
   "metadata": {},
   "outputs": [
    {
     "data": {
      "text/plain": [
       "('../models/intentClassifier/tokenizer_config.json',\n",
       " '../models/intentClassifier/special_tokens_map.json',\n",
       " '../models/intentClassifier/vocab.txt',\n",
       " '../models/intentClassifier/added_tokens.json')"
      ]
     },
     "execution_count": 38,
     "metadata": {},
     "output_type": "execute_result"
    }
   ],
   "source": [
    "trainer.save_model(\"../models/intentClassifier\")\n",
    "tokenizer.save_pretrained(\"../models/intentClassifier\")"
   ]
  },
  {
   "cell_type": "code",
   "execution_count": 34,
   "id": "f269af53",
   "metadata": {},
   "outputs": [],
   "source": [
    "# Inference example\n",
    "def predict_intent(text):\n",
    "    inputs = tokenizer(text, return_tensors=\"pt\", padding=True, truncation=True)\n",
    "    with torch.no_grad():\n",
    "        outputs = model(**inputs)\n",
    "        predicted_class_id = outputs.logits.argmax().item()\n",
    "    return intent_labels[predicted_class_id]"
   ]
  },
  {
   "cell_type": "markdown",
   "id": "80ff5624",
   "metadata": {},
   "source": [
    "If you want to equipment using MPS, please execute this code."
   ]
  },
  {
   "cell_type": "code",
   "execution_count": null,
   "id": "af366a0b",
   "metadata": {},
   "outputs": [
    {
     "name": "stdout",
     "output_type": "stream",
     "text": [
      "Equipment used: mps\n"
     ]
    }
   ],
   "source": [
    "# import torch\n",
    "\n",
    "# # Check if MPS is available and set the device\n",
    "# device = torch.device(\"mps\" if torch.backends.mps.is_available() else \"cpu\")\n",
    "# print(f\"Equipment used: {device}\")\n",
    "\n",
    "# # Assuming your model and tokenizer are defined elsewhere\n",
    "# # For example:\n",
    "# # from transformers import AutoTokenizer, AutoModelForSequenceClassification\n",
    "# # tokenizer = AutoTokenizer.from_pretrained(\"distilbert-base-uncased\")\n",
    "# # model = AutoModelForSequenceClassification.from_pretrained(\"distilbert-base-uncased\")\n",
    "\n",
    "# # Move the model to the specified device\n",
    "# model.to(device)\n",
    "\n",
    "# def predict_intent(text):\n",
    "#     # Tokenize the input text\n",
    "#     inputs = tokenizer(text, return_tensors=\"pt\", padding=True, truncation=True)\n",
    "    \n",
    "#     # Ensure all input tensors are moved to the same device as the model\n",
    "#     # This step is critical to avoid the RuntimeError\n",
    "#     inputs = {key: val.to(device) for key, val in inputs.items()}\n",
    "    \n",
    "#     # Perform inference\n",
    "#     with torch.no_grad():\n",
    "#         outputs = model(**inputs)\n",
    "#         predicted_class_id = outputs.logits.argmax().item()\n",
    "#     return intent_labels[predicted_class_id]"
   ]
  },
  {
   "cell_type": "code",
   "execution_count": 39,
   "id": "53290c1c",
   "metadata": {},
   "outputs": [
    {
     "name": "stdout",
     "output_type": "stream",
     "text": [
      "Scholarship/Financial Aid\n",
      "General Complaint\n",
      "Extracurricular Activities\n"
     ]
    }
   ],
   "source": [
    "# Example usage\n",
    "print(predict_intent(\"How do I apply for scholarships?\"))\n",
    "print(predict_intent(\"I have a complaint about the cafeteria service?\"))\n",
    "print(predict_intent(\"Are there any upcoming student events\"))"
   ]
  },
  {
   "cell_type": "code",
   "execution_count": 40,
   "id": "040d3b95",
   "metadata": {},
   "outputs": [
    {
     "name": "stdout",
     "output_type": "stream",
     "text": [
      "Tuition/Fees Inquiry\n",
      "Scholarship/Financial Aid\n"
     ]
    }
   ],
   "source": [
    "print(predict_intent(\"When is the tuition payment deadline?\"))\n",
    "print(predict_intent(\"Hi, I'm trying to figure out how to pay my tuition fees.\"))"
   ]
  }
 ],
 "metadata": {
  "kernelspec": {
   "display_name": ".venvpj",
   "language": "python",
   "name": "python3"
  },
  "language_info": {
   "codemirror_mode": {
    "name": "ipython",
    "version": 3
   },
   "file_extension": ".py",
   "mimetype": "text/x-python",
   "name": "python",
   "nbconvert_exporter": "python",
   "pygments_lexer": "ipython3",
   "version": "3.10.0"
  }
 },
 "nbformat": 4,
 "nbformat_minor": 5
}

{
 "cells": [
  {
   "cell_type": "code",
   "execution_count": null,
   "id": "9e3afcd4",
   "metadata": {},
   "outputs": [],
   "source": [
    "target_emotions = [\"sadness\", \"grief\", \"fear\", \"remorse\", \"disappointment\", \"nervousness\", \"embarrassment\" ]  # custom order: high severity first"
   ]
  },
  {
   "cell_type": "code",
   "execution_count": null,
   "id": "421dfc65",
   "metadata": {},
   "outputs": [],
   "source": [
    "# Load dataset\n",
    "from datasets import load_dataset\n",
    "\n",
    "goemo_dataset = load_dataset(\"go_emotions\")\n",
    "\n",
    "# Get label names (maps index to emotion string)\n",
    "id2label = goemo_dataset['train'].features['labels'].feature.names\n",
    "label2id = {label: i for i, label in enumerate(id2label)}\n",
    "\n",
    "# Create emotion index map for only target emotions\n",
    "target_label2id = {emotion: idx for idx, emotion in enumerate(target_emotions)}\n",
    "target_id2label = {idx: emotion for emotion, idx in target_label2id.items()}\n",
    "target_label_ids = {label2id[e] for e in target_emotions}"
   ]
  },
  {
   "cell_type": "code",
   "execution_count": null,
   "id": "25591fff",
   "metadata": {},
   "outputs": [
    {
     "data": {
      "text/html": [
       "<div>\n",
       "<style scoped>\n",
       "    .dataframe tbody tr th:only-of-type {\n",
       "        vertical-align: middle;\n",
       "    }\n",
       "\n",
       "    .dataframe tbody tr th {\n",
       "        vertical-align: top;\n",
       "    }\n",
       "\n",
       "    .dataframe thead th {\n",
       "        text-align: right;\n",
       "    }\n",
       "</style>\n",
       "<table border=\"1\" class=\"dataframe\">\n",
       "  <thead>\n",
       "    <tr style=\"text-align: right;\">\n",
       "      <th></th>\n",
       "      <th>text</th>\n",
       "      <th>label</th>\n",
       "    </tr>\n",
       "  </thead>\n",
       "  <tbody>\n",
       "    <tr>\n",
       "      <th>0</th>\n",
       "      <td>To make her feel threatened</td>\n",
       "      <td>2</td>\n",
       "    </tr>\n",
       "    <tr>\n",
       "      <th>1</th>\n",
       "      <td>Shit, I guess I accidentally bought a Pay-Per-...</td>\n",
       "      <td>6</td>\n",
       "    </tr>\n",
       "    <tr>\n",
       "      <th>2</th>\n",
       "      <td>I never thought it was at the same moment, but...</td>\n",
       "      <td>4</td>\n",
       "    </tr>\n",
       "    <tr>\n",
       "      <th>3</th>\n",
       "      <td>i got a bump and a bald spot. i feel dumb &lt;3</td>\n",
       "      <td>6</td>\n",
       "    </tr>\n",
       "    <tr>\n",
       "      <th>4</th>\n",
       "      <td>I miss them being alive</td>\n",
       "      <td>1</td>\n",
       "    </tr>\n",
       "  </tbody>\n",
       "</table>\n",
       "</div>"
      ],
      "text/plain": [
       "                                                text  label\n",
       "0                        To make her feel threatened      2\n",
       "1  Shit, I guess I accidentally bought a Pay-Per-...      6\n",
       "2  I never thought it was at the same moment, but...      4\n",
       "3       i got a bump and a bald spot. i feel dumb <3      6\n",
       "4                            I miss them being alive      1"
      ]
     },
     "execution_count": 7,
     "metadata": {},
     "output_type": "execute_result"
    }
   ],
   "source": [
    "import pandas as pd\n",
    "\n",
    "# Convert to DataFrame\n",
    "df = goemo_dataset[\"train\"].to_pandas()\n",
    "\n",
    "# Keep only rows with at least one target emotion\n",
    "def get_first_target_label(labels):\n",
    "    for l in labels:\n",
    "        if l in target_label_ids:\n",
    "            return id2label[l]\n",
    "    return None\n",
    "\n",
    "df['target_label'] = df['labels'].apply(get_first_target_label)\n",
    "df = df[df['target_label'].notnull()].reset_index(drop=True)\n",
    "\n",
    "# Map emotion string to class index 0-6\n",
    "df['label'] = df['target_label'].map(target_label2id)\n",
    "df = df[['text', 'label']]  # Final columns: text + class index\n",
    "\n",
    "df.head()"
   ]
  },
  {
   "cell_type": "code",
   "execution_count": 8,
   "id": "acce0977",
   "metadata": {},
   "outputs": [],
   "source": [
    "from sklearn.model_selection import train_test_split\n",
    "\n",
    "train_df, val_df = train_test_split(df, test_size=0.1, stratify=df['label'], random_state=42)"
   ]
  },
  {
   "cell_type": "code",
   "execution_count": 9,
   "id": "0faec1a1",
   "metadata": {},
   "outputs": [
    {
     "name": "stderr",
     "output_type": "stream",
     "text": [
      "/Users/bennyxiong/Documents/Source/ML/CSCN8010_FinalProject/.venv/lib/python3.9/site-packages/huggingface_hub/file_download.py:945: FutureWarning: `resume_download` is deprecated and will be removed in version 1.0.0. Downloads always resume when possible. If you want to force a new download, use `force_download=True`.\n",
      "  warnings.warn(\n",
      "Map: 100%|██████████| 3555/3555 [00:00<00:00, 33788.55 examples/s]\n",
      "Map: 100%|██████████| 395/395 [00:00<00:00, 32082.69 examples/s]\n"
     ]
    }
   ],
   "source": [
    "from transformers import AutoTokenizer\n",
    "from datasets import Dataset\n",
    "\n",
    "tokenizer = AutoTokenizer.from_pretrained(\"bert-base-uncased\")\n",
    "\n",
    "def tokenize(example):\n",
    "    return tokenizer(example[\"text\"], padding=\"max_length\", truncation=True, max_length=128)\n",
    "\n",
    "# Convert pandas back to Hugging Face Datasets\n",
    "train_dataset = Dataset.from_pandas(train_df)\n",
    "val_dataset = Dataset.from_pandas(val_df)\n",
    "\n",
    "train_dataset = train_dataset.map(tokenize, batched=True)\n",
    "val_dataset = val_dataset.map(tokenize, batched=True)\n",
    "\n",
    "# Set format for PyTorch\n",
    "train_dataset.set_format(type=\"torch\", columns=[\"input_ids\", \"attention_mask\", \"label\"])\n",
    "val_dataset.set_format(type=\"torch\", columns=[\"input_ids\", \"attention_mask\", \"label\"])\n"
   ]
  },
  {
   "cell_type": "code",
   "execution_count": null,
   "id": "927e23a6",
   "metadata": {},
   "outputs": [
    {
     "name": "stderr",
     "output_type": "stream",
     "text": [
      "/Users/bennyxiong/Documents/Source/ML/CSCN8010_FinalProject/.venv/lib/python3.9/site-packages/huggingface_hub/file_download.py:945: FutureWarning: `resume_download` is deprecated and will be removed in version 1.0.0. Downloads always resume when possible. If you want to force a new download, use `force_download=True`.\n",
      "  warnings.warn(\n",
      "Some weights of the model checkpoint at bert-base-uncased were not used when initializing BertForSequenceClassification: ['cls.seq_relationship.bias', 'cls.predictions.transform.dense.bias', 'cls.predictions.decoder.weight', 'cls.predictions.transform.LayerNorm.weight', 'cls.predictions.transform.dense.weight', 'cls.seq_relationship.weight', 'cls.predictions.bias', 'cls.predictions.transform.LayerNorm.bias']\n",
      "- This IS expected if you are initializing BertForSequenceClassification from the checkpoint of a model trained on another task or with another architecture (e.g. initializing a BertForSequenceClassification model from a BertForPreTraining model).\n",
      "- This IS NOT expected if you are initializing BertForSequenceClassification from the checkpoint of a model that you expect to be exactly identical (initializing a BertForSequenceClassification model from a BertForSequenceClassification model).\n",
      "Some weights of BertForSequenceClassification were not initialized from the model checkpoint at bert-base-uncased and are newly initialized: ['classifier.bias', 'classifier.weight']\n",
      "You should probably TRAIN this model on a down-stream task to be able to use it for predictions and inference.\n"
     ]
    }
   ],
   "source": [
    "from transformers import BertForSequenceClassification, TrainingArguments, Trainer, EarlyStoppingCallback\n",
    "from sklearn.metrics import accuracy_score, f1_score, precision_score, recall_score\n",
    "import torch\n",
    "\n",
    "# Model setup\n",
    "model = BertForSequenceClassification.from_pretrained(\n",
    "    \"bert-base-uncased\",\n",
    "    num_labels=len(target_emotions)\n",
    ")\n",
    "\n",
    "# Metrics\n",
    "def compute_metrics(pred):\n",
    "    logits, labels = pred\n",
    "    preds = logits.argmax(axis=1)\n",
    "    return {\n",
    "        \"accuracy\": accuracy_score(labels, preds),\n",
    "        \"f1\": f1_score(labels, preds, average=\"weighted\"),\n",
    "        \"precision\": precision_score(labels, preds, average=\"weighted\"),\n",
    "        \"recall\": recall_score(labels, preds, average=\"weighted\"),\n",
    "    }\n",
    "\n",
    "# Training arguments\n",
    "training_args = TrainingArguments(\n",
    "    output_dir=\"./results\",\n",
    "    evaluation_strategy=\"epoch\",\n",
    "    save_strategy=\"epoch\",\n",
    "    load_best_model_at_end=True,\n",
    "    metric_for_best_model=\"eval_f1\",\n",
    "    greater_is_better=True,\n",
    "    learning_rate=2e-5,\n",
    "    per_device_train_batch_size=16,\n",
    "    per_device_eval_batch_size=64,\n",
    "    num_train_epochs=10,\n",
    "    weight_decay=0.01,\n",
    "    logging_dir=\"./logs\",\n",
    "    logging_steps=100,\n",
    ")\n",
    "\n",
    "# Trainer\n",
    "trainer = Trainer(\n",
    "    model=model,\n",
    "    args=training_args,\n",
    "    train_dataset=train_dataset,\n",
    "    eval_dataset=val_dataset,\n",
    "    compute_metrics=compute_metrics,\n",
    "    callbacks=[EarlyStoppingCallback(early_stopping_patience=2)]\n",
    ")"
   ]
  },
  {
   "cell_type": "code",
   "execution_count": 11,
   "id": "9e09fdb2",
   "metadata": {},
   "outputs": [
    {
     "name": "stderr",
     "output_type": "stream",
     "text": [
      "The following columns in the training set don't have a corresponding argument in `BertForSequenceClassification.forward` and have been ignored: __index_level_0__, text. If __index_level_0__, text are not expected by `BertForSequenceClassification.forward`,  you can safely ignore this message.\n",
      "/Users/bennyxiong/Documents/Source/ML/CSCN8010_FinalProject/.venv/lib/python3.9/site-packages/transformers/optimization.py:306: FutureWarning: This implementation of AdamW is deprecated and will be removed in a future version. Use the PyTorch implementation torch.optim.AdamW instead, or set `no_deprecation_warning=True` to disable this warning\n",
      "  warnings.warn(\n",
      "***** Running training *****\n",
      "  Num examples = 3555\n",
      "  Num Epochs = 10\n",
      "  Instantaneous batch size per device = 16\n",
      "  Total train batch size (w. parallel, distributed & accumulation) = 16\n",
      "  Gradient Accumulation steps = 1\n",
      "  Total optimization steps = 2230\n",
      "  Number of trainable parameters = 109487623\n",
      "  0%|          | 0/2230 [00:00<?, ?it/s]/Users/bennyxiong/Documents/Source/ML/CSCN8010_FinalProject/.venv/lib/python3.9/site-packages/torch/utils/data/dataloader.py:683: UserWarning: 'pin_memory' argument is set as true but not supported on MPS now, then device pinned memory won't be used.\n",
      "  warnings.warn(warn_msg)\n",
      "  4%|▍         | 100/2230 [02:34<53:58,  1.52s/it]"
     ]
    },
    {
     "name": "stdout",
     "output_type": "stream",
     "text": [
      "{'loss': 1.5661, 'learning_rate': 1.9103139013452916e-05, 'epoch': 0.45}\n"
     ]
    },
    {
     "name": "stderr",
     "output_type": "stream",
     "text": [
      "  9%|▉         | 200/2230 [05:06<51:32,  1.52s/it]"
     ]
    },
    {
     "name": "stdout",
     "output_type": "stream",
     "text": [
      "{'loss': 1.1999, 'learning_rate': 1.820627802690583e-05, 'epoch': 0.9}\n"
     ]
    },
    {
     "name": "stderr",
     "output_type": "stream",
     "text": [
      " 10%|█         | 223/2230 [05:41<39:53,  1.19s/it]The following columns in the evaluation set don't have a corresponding argument in `BertForSequenceClassification.forward` and have been ignored: __index_level_0__, text. If __index_level_0__, text are not expected by `BertForSequenceClassification.forward`,  you can safely ignore this message.\n",
      "***** Running Evaluation *****\n",
      "  Num examples = 395\n",
      "  Batch size = 64\n",
      "/Users/bennyxiong/Documents/Source/ML/CSCN8010_FinalProject/.venv/lib/python3.9/site-packages/sklearn/metrics/_classification.py:1565: UndefinedMetricWarning: Precision is ill-defined and being set to 0.0 in labels with no predicted samples. Use `zero_division` parameter to control this behavior.\n",
      "  _warn_prf(average, modifier, f\"{metric.capitalize()} is\", len(result))\n",
      "                                                  \n",
      " 10%|█         | 223/2230 [05:51<39:53,  1.19s/it]Saving model checkpoint to ./results/checkpoint-223\n",
      "Configuration saved in ./results/checkpoint-223/config.json\n"
     ]
    },
    {
     "name": "stdout",
     "output_type": "stream",
     "text": [
      "{'eval_loss': 0.9660813808441162, 'eval_accuracy': 0.6759493670886076, 'eval_f1': 0.6568367211258851, 'eval_precision': 0.6515191480158588, 'eval_recall': 0.6759493670886076, 'eval_runtime': 10.6041, 'eval_samples_per_second': 37.25, 'eval_steps_per_second': 0.66, 'epoch': 1.0}\n"
     ]
    },
    {
     "name": "stderr",
     "output_type": "stream",
     "text": [
      "Model weights saved in ./results/checkpoint-223/pytorch_model.bin\n",
      "/Users/bennyxiong/Documents/Source/ML/CSCN8010_FinalProject/.venv/lib/python3.9/site-packages/torch/utils/data/dataloader.py:683: UserWarning: 'pin_memory' argument is set as true but not supported on MPS now, then device pinned memory won't be used.\n",
      "  warnings.warn(warn_msg)\n",
      " 13%|█▎        | 300/2230 [07:51<49:12,  1.53s/it]  "
     ]
    },
    {
     "name": "stdout",
     "output_type": "stream",
     "text": [
      "{'loss': 0.8553, 'learning_rate': 1.7309417040358745e-05, 'epoch': 1.35}\n"
     ]
    },
    {
     "name": "stderr",
     "output_type": "stream",
     "text": [
      " 18%|█▊        | 400/2230 [10:26<46:24,  1.52s/it]"
     ]
    },
    {
     "name": "stdout",
     "output_type": "stream",
     "text": [
      "{'loss': 0.7617, 'learning_rate': 1.641255605381166e-05, 'epoch': 1.79}\n"
     ]
    },
    {
     "name": "stderr",
     "output_type": "stream",
     "text": [
      " 20%|██        | 446/2230 [11:35<35:26,  1.19s/it]The following columns in the evaluation set don't have a corresponding argument in `BertForSequenceClassification.forward` and have been ignored: __index_level_0__, text. If __index_level_0__, text are not expected by `BertForSequenceClassification.forward`,  you can safely ignore this message.\n",
      "***** Running Evaluation *****\n",
      "  Num examples = 395\n",
      "  Batch size = 64\n",
      "/Users/bennyxiong/Documents/Source/ML/CSCN8010_FinalProject/.venv/lib/python3.9/site-packages/sklearn/metrics/_classification.py:1565: UndefinedMetricWarning: Precision is ill-defined and being set to 0.0 in labels with no predicted samples. Use `zero_division` parameter to control this behavior.\n",
      "  _warn_prf(average, modifier, f\"{metric.capitalize()} is\", len(result))\n",
      "                                                  \n",
      " 20%|██        | 446/2230 [11:46<35:26,  1.19s/it]Saving model checkpoint to ./results/checkpoint-446\n",
      "Configuration saved in ./results/checkpoint-446/config.json\n"
     ]
    },
    {
     "name": "stdout",
     "output_type": "stream",
     "text": [
      "{'eval_loss': 0.8754124045372009, 'eval_accuracy': 0.6835443037974683, 'eval_f1': 0.6735436989997211, 'eval_precision': 0.6777306288131255, 'eval_recall': 0.6835443037974683, 'eval_runtime': 10.6798, 'eval_samples_per_second': 36.986, 'eval_steps_per_second': 0.655, 'epoch': 2.0}\n"
     ]
    },
    {
     "name": "stderr",
     "output_type": "stream",
     "text": [
      "Model weights saved in ./results/checkpoint-446/pytorch_model.bin\n",
      "/Users/bennyxiong/Documents/Source/ML/CSCN8010_FinalProject/.venv/lib/python3.9/site-packages/torch/utils/data/dataloader.py:683: UserWarning: 'pin_memory' argument is set as true but not supported on MPS now, then device pinned memory won't be used.\n",
      "  warnings.warn(warn_msg)\n",
      " 22%|██▏       | 500/2230 [13:12<45:47,  1.59s/it]  "
     ]
    },
    {
     "name": "stdout",
     "output_type": "stream",
     "text": [
      "{'loss': 0.6422, 'learning_rate': 1.5515695067264575e-05, 'epoch': 2.24}\n"
     ]
    },
    {
     "name": "stderr",
     "output_type": "stream",
     "text": [
      " 27%|██▋       | 600/2230 [15:47<42:01,  1.55s/it]"
     ]
    },
    {
     "name": "stdout",
     "output_type": "stream",
     "text": [
      "{'loss': 0.5547, 'learning_rate': 1.461883408071749e-05, 'epoch': 2.69}\n"
     ]
    },
    {
     "name": "stderr",
     "output_type": "stream",
     "text": [
      " 30%|███       | 669/2230 [17:31<31:04,  1.19s/it]The following columns in the evaluation set don't have a corresponding argument in `BertForSequenceClassification.forward` and have been ignored: __index_level_0__, text. If __index_level_0__, text are not expected by `BertForSequenceClassification.forward`,  you can safely ignore this message.\n",
      "***** Running Evaluation *****\n",
      "  Num examples = 395\n",
      "  Batch size = 64\n",
      "                                                  \n",
      " 30%|███       | 669/2230 [17:42<31:04,  1.19s/it]Saving model checkpoint to ./results/checkpoint-669\n",
      "Configuration saved in ./results/checkpoint-669/config.json\n"
     ]
    },
    {
     "name": "stdout",
     "output_type": "stream",
     "text": [
      "{'eval_loss': 0.8993335366249084, 'eval_accuracy': 0.6860759493670886, 'eval_f1': 0.6828855991804972, 'eval_precision': 0.7106499486679824, 'eval_recall': 0.6860759493670886, 'eval_runtime': 10.609, 'eval_samples_per_second': 37.233, 'eval_steps_per_second': 0.66, 'epoch': 3.0}\n"
     ]
    },
    {
     "name": "stderr",
     "output_type": "stream",
     "text": [
      "Model weights saved in ./results/checkpoint-669/pytorch_model.bin\n",
      "/Users/bennyxiong/Documents/Source/ML/CSCN8010_FinalProject/.venv/lib/python3.9/site-packages/torch/utils/data/dataloader.py:683: UserWarning: 'pin_memory' argument is set as true but not supported on MPS now, then device pinned memory won't be used.\n",
      "  warnings.warn(warn_msg)\n",
      " 31%|███▏      | 700/2230 [18:31<39:02,  1.53s/it]  "
     ]
    },
    {
     "name": "stdout",
     "output_type": "stream",
     "text": [
      "{'loss': 0.4892, 'learning_rate': 1.3721973094170404e-05, 'epoch': 3.14}\n"
     ]
    },
    {
     "name": "stderr",
     "output_type": "stream",
     "text": [
      " 36%|███▌      | 800/2230 [21:04<36:12,  1.52s/it]"
     ]
    },
    {
     "name": "stdout",
     "output_type": "stream",
     "text": [
      "{'loss': 0.4207, 'learning_rate': 1.2825112107623318e-05, 'epoch': 3.59}\n"
     ]
    },
    {
     "name": "stderr",
     "output_type": "stream",
     "text": [
      " 40%|████      | 892/2230 [23:24<26:48,  1.20s/it]The following columns in the evaluation set don't have a corresponding argument in `BertForSequenceClassification.forward` and have been ignored: __index_level_0__, text. If __index_level_0__, text are not expected by `BertForSequenceClassification.forward`,  you can safely ignore this message.\n",
      "***** Running Evaluation *****\n",
      "  Num examples = 395\n",
      "  Batch size = 64\n",
      "                                                  \n",
      " 40%|████      | 892/2230 [23:35<26:48,  1.20s/it]Saving model checkpoint to ./results/checkpoint-892\n",
      "Configuration saved in ./results/checkpoint-892/config.json\n"
     ]
    },
    {
     "name": "stdout",
     "output_type": "stream",
     "text": [
      "{'eval_loss': 1.033589482307434, 'eval_accuracy': 0.6708860759493671, 'eval_f1': 0.6612588847704586, 'eval_precision': 0.6784248473926352, 'eval_recall': 0.6708860759493671, 'eval_runtime': 10.7842, 'eval_samples_per_second': 36.628, 'eval_steps_per_second': 0.649, 'epoch': 4.0}\n"
     ]
    },
    {
     "name": "stderr",
     "output_type": "stream",
     "text": [
      "Model weights saved in ./results/checkpoint-892/pytorch_model.bin\n",
      "/Users/bennyxiong/Documents/Source/ML/CSCN8010_FinalProject/.venv/lib/python3.9/site-packages/torch/utils/data/dataloader.py:683: UserWarning: 'pin_memory' argument is set as true but not supported on MPS now, then device pinned memory won't be used.\n",
      "  warnings.warn(warn_msg)\n",
      " 40%|████      | 900/2230 [23:49<40:34,  1.83s/it]  "
     ]
    },
    {
     "name": "stdout",
     "output_type": "stream",
     "text": [
      "{'loss': 0.3609, 'learning_rate': 1.1928251121076233e-05, 'epoch': 4.04}\n"
     ]
    },
    {
     "name": "stderr",
     "output_type": "stream",
     "text": [
      " 45%|████▍     | 1000/2230 [26:22<31:13,  1.52s/it]"
     ]
    },
    {
     "name": "stdout",
     "output_type": "stream",
     "text": [
      "{'loss': 0.2537, 'learning_rate': 1.1031390134529149e-05, 'epoch': 4.48}\n"
     ]
    },
    {
     "name": "stderr",
     "output_type": "stream",
     "text": [
      " 49%|████▉     | 1100/2230 [28:55<29:25,  1.56s/it]"
     ]
    },
    {
     "name": "stdout",
     "output_type": "stream",
     "text": [
      "{'loss': 0.2601, 'learning_rate': 1.0134529147982064e-05, 'epoch': 4.93}\n"
     ]
    },
    {
     "name": "stderr",
     "output_type": "stream",
     "text": [
      " 50%|█████     | 1115/2230 [29:17<22:12,  1.20s/it]The following columns in the evaluation set don't have a corresponding argument in `BertForSequenceClassification.forward` and have been ignored: __index_level_0__, text. If __index_level_0__, text are not expected by `BertForSequenceClassification.forward`,  you can safely ignore this message.\n",
      "***** Running Evaluation *****\n",
      "  Num examples = 395\n",
      "  Batch size = 64\n",
      "                                                   \n",
      " 50%|█████     | 1115/2230 [29:28<22:12,  1.20s/it]Saving model checkpoint to ./results/checkpoint-1115\n",
      "Configuration saved in ./results/checkpoint-1115/config.json\n"
     ]
    },
    {
     "name": "stdout",
     "output_type": "stream",
     "text": [
      "{'eval_loss': 1.0920883417129517, 'eval_accuracy': 0.6987341772151898, 'eval_f1': 0.6951084704894018, 'eval_precision': 0.7039788987108421, 'eval_recall': 0.6987341772151898, 'eval_runtime': 10.6551, 'eval_samples_per_second': 37.072, 'eval_steps_per_second': 0.657, 'epoch': 5.0}\n"
     ]
    },
    {
     "name": "stderr",
     "output_type": "stream",
     "text": [
      "Model weights saved in ./results/checkpoint-1115/pytorch_model.bin\n",
      "/Users/bennyxiong/Documents/Source/ML/CSCN8010_FinalProject/.venv/lib/python3.9/site-packages/torch/utils/data/dataloader.py:683: UserWarning: 'pin_memory' argument is set as true but not supported on MPS now, then device pinned memory won't be used.\n",
      "  warnings.warn(warn_msg)\n",
      " 54%|█████▍    | 1200/2230 [31:40<26:15,  1.53s/it]  "
     ]
    },
    {
     "name": "stdout",
     "output_type": "stream",
     "text": [
      "{'loss': 0.1708, 'learning_rate': 9.237668161434978e-06, 'epoch': 5.38}\n"
     ]
    },
    {
     "name": "stderr",
     "output_type": "stream",
     "text": [
      " 58%|█████▊    | 1300/2230 [34:28<28:58,  1.87s/it]  "
     ]
    },
    {
     "name": "stdout",
     "output_type": "stream",
     "text": [
      "{'loss': 0.1639, 'learning_rate': 8.340807174887893e-06, 'epoch': 5.83}\n"
     ]
    },
    {
     "name": "stderr",
     "output_type": "stream",
     "text": [
      " 60%|██████    | 1338/2230 [35:24<17:23,  1.17s/it]The following columns in the evaluation set don't have a corresponding argument in `BertForSequenceClassification.forward` and have been ignored: __index_level_0__, text. If __index_level_0__, text are not expected by `BertForSequenceClassification.forward`,  you can safely ignore this message.\n",
      "***** Running Evaluation *****\n",
      "  Num examples = 395\n",
      "  Batch size = 64\n",
      "                                                   \n",
      " 60%|██████    | 1338/2230 [35:34<17:23,  1.17s/it]Saving model checkpoint to ./results/checkpoint-1338\n",
      "Configuration saved in ./results/checkpoint-1338/config.json\n"
     ]
    },
    {
     "name": "stdout",
     "output_type": "stream",
     "text": [
      "{'eval_loss': 1.2460581064224243, 'eval_accuracy': 0.6835443037974683, 'eval_f1': 0.6821162797741696, 'eval_precision': 0.6914439174212071, 'eval_recall': 0.6835443037974683, 'eval_runtime': 10.4228, 'eval_samples_per_second': 37.898, 'eval_steps_per_second': 0.672, 'epoch': 6.0}\n"
     ]
    },
    {
     "name": "stderr",
     "output_type": "stream",
     "text": [
      "Model weights saved in ./results/checkpoint-1338/pytorch_model.bin\n",
      "/Users/bennyxiong/Documents/Source/ML/CSCN8010_FinalProject/.venv/lib/python3.9/site-packages/torch/utils/data/dataloader.py:683: UserWarning: 'pin_memory' argument is set as true but not supported on MPS now, then device pinned memory won't be used.\n",
      "  warnings.warn(warn_msg)\n",
      " 63%|██████▎   | 1400/2230 [37:09<20:44,  1.50s/it]  "
     ]
    },
    {
     "name": "stdout",
     "output_type": "stream",
     "text": [
      "{'loss': 0.1258, 'learning_rate': 7.443946188340808e-06, 'epoch': 6.28}\n"
     ]
    },
    {
     "name": "stderr",
     "output_type": "stream",
     "text": [
      " 67%|██████▋   | 1500/2230 [57:46<18:43,  1.54s/it]    "
     ]
    },
    {
     "name": "stdout",
     "output_type": "stream",
     "text": [
      "{'loss': 0.1132, 'learning_rate': 6.547085201793723e-06, 'epoch': 6.73}\n"
     ]
    },
    {
     "name": "stderr",
     "output_type": "stream",
     "text": [
      " 70%|███████   | 1561/2230 [59:19<13:22,  1.20s/it]The following columns in the evaluation set don't have a corresponding argument in `BertForSequenceClassification.forward` and have been ignored: __index_level_0__, text. If __index_level_0__, text are not expected by `BertForSequenceClassification.forward`,  you can safely ignore this message.\n",
      "***** Running Evaluation *****\n",
      "  Num examples = 395\n",
      "  Batch size = 64\n",
      "                                                   \n",
      " 70%|███████   | 1561/2230 [59:30<13:22,  1.20s/it]Saving model checkpoint to ./results/checkpoint-1561\n",
      "Configuration saved in ./results/checkpoint-1561/config.json\n"
     ]
    },
    {
     "name": "stdout",
     "output_type": "stream",
     "text": [
      "{'eval_loss': 1.29880690574646, 'eval_accuracy': 0.6683544303797468, 'eval_f1': 0.6684059761407459, 'eval_precision': 0.6744655569619256, 'eval_recall': 0.6683544303797468, 'eval_runtime': 10.6507, 'eval_samples_per_second': 37.087, 'eval_steps_per_second': 0.657, 'epoch': 7.0}\n"
     ]
    },
    {
     "name": "stderr",
     "output_type": "stream",
     "text": [
      "Model weights saved in ./results/checkpoint-1561/pytorch_model.bin\n",
      "\n",
      "\n",
      "Training completed. Do not forget to share your model on huggingface.co/models =)\n",
      "\n",
      "\n",
      "Loading best model from ./results/checkpoint-1115 (score: 0.6951084704894018).\n",
      " 70%|███████   | 1561/2230 [59:31<25:30,  2.29s/it]"
     ]
    },
    {
     "name": "stdout",
     "output_type": "stream",
     "text": [
      "{'train_runtime': 3571.6963, 'train_samples_per_second': 9.953, 'train_steps_per_second': 0.624, 'train_loss': 0.5132844254116765, 'epoch': 7.0}\n"
     ]
    },
    {
     "name": "stderr",
     "output_type": "stream",
     "text": [
      "\n"
     ]
    },
    {
     "data": {
      "text/plain": [
       "TrainOutput(global_step=1561, training_loss=0.5132844254116765, metrics={'train_runtime': 3571.6963, 'train_samples_per_second': 9.953, 'train_steps_per_second': 0.624, 'train_loss': 0.5132844254116765, 'epoch': 7.0})"
      ]
     },
     "execution_count": 11,
     "metadata": {},
     "output_type": "execute_result"
    }
   ],
   "source": [
    "trainer.train()"
   ]
  },
  {
   "cell_type": "code",
   "execution_count": null,
   "id": "6cf27791",
   "metadata": {},
   "outputs": [
    {
     "name": "stderr",
     "output_type": "stream",
     "text": [
      "Saving model checkpoint to model\n",
      "Configuration saved in model/config.json\n",
      "Model weights saved in model/pytorch_model.bin\n",
      "tokenizer config file saved in model/tokenizer_config.json\n",
      "Special tokens file saved in model/special_tokens_map.json\n"
     ]
    },
    {
     "data": {
      "text/plain": [
       "('model/tokenizer_config.json',\n",
       " 'model/special_tokens_map.json',\n",
       " 'model/vocab.txt',\n",
       " 'model/added_tokens.json',\n",
       " 'model/tokenizer.json')"
      ]
     },
     "execution_count": 12,
     "metadata": {},
     "output_type": "execute_result"
    }
   ],
   "source": [
    "trainer.save_model(\"../../models/emotionClassifier\")\n",
    "tokenizer.save_pretrained(\"../../models/emotionClassifier\")"
   ]
  }
 ],
 "metadata": {
  "kernelspec": {
   "display_name": ".venv (3.9.6)",
   "language": "python",
   "name": "python3"
  },
  "language_info": {
   "codemirror_mode": {
    "name": "ipython",
    "version": 3
   },
   "file_extension": ".py",
   "mimetype": "text/x-python",
   "name": "python",
   "nbconvert_exporter": "python",
   "pygments_lexer": "ipython3",
   "version": "3.9.6"
  }
 },
 "nbformat": 4,
 "nbformat_minor": 5
}
